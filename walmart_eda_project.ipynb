{
 "cells": [
  {
   "cell_type": "code",
   "execution_count": 1,
   "id": "0aa8b2c2-0f21-4190-af18-326a61d2ef70",
   "metadata": {},
   "outputs": [],
   "source": [
    "import pandas as pd\n",
    "import matplotlib.pyplot as plt\n",
    "import seaborn as sns\n",
    "import plotly.express as px\n",
    "from sklearn.preprocessing import StandardScaler\n",
    "from sklearn.preprocessing import LabelEncoder\n",
    "from sklearn.preprocessing import MinMaxScaler\n",
    "import datetime as dt\n",
    "import warnings\n",
    "warnings.filterwarnings('ignore')"
   ]
  },
  {
   "cell_type": "code",
   "execution_count": 2,
   "id": "031dd6e7-da69-4d95-a8b1-8918564532de",
   "metadata": {},
   "outputs": [],
   "source": [
    "df=pd.read_csv(\"Walmart.csv\")"
   ]
  },
  {
   "cell_type": "markdown",
   "id": "7b680aa3-6988-4f7e-8642-54399fdf4608",
   "metadata": {},
   "source": [
    "# data viewing"
   ]
  },
  {
   "cell_type": "code",
   "execution_count": 3,
   "id": "5d1a0b9e-efb0-4a16-a507-94787c211eb1",
   "metadata": {},
   "outputs": [
    {
     "data": {
      "text/html": [
       "<div>\n",
       "<style scoped>\n",
       "    .dataframe tbody tr th:only-of-type {\n",
       "        vertical-align: middle;\n",
       "    }\n",
       "\n",
       "    .dataframe tbody tr th {\n",
       "        vertical-align: top;\n",
       "    }\n",
       "\n",
       "    .dataframe thead th {\n",
       "        text-align: right;\n",
       "    }\n",
       "</style>\n",
       "<table border=\"1\" class=\"dataframe\">\n",
       "  <thead>\n",
       "    <tr style=\"text-align: right;\">\n",
       "      <th></th>\n",
       "      <th>Invoice ID</th>\n",
       "      <th>Branch</th>\n",
       "      <th>City</th>\n",
       "      <th>Customer type</th>\n",
       "      <th>Gender</th>\n",
       "      <th>Product line</th>\n",
       "      <th>Unit price</th>\n",
       "      <th>Quantity</th>\n",
       "      <th>Tax 5%</th>\n",
       "      <th>Total</th>\n",
       "      <th>Date</th>\n",
       "      <th>Time</th>\n",
       "      <th>Payment</th>\n",
       "      <th>cogs</th>\n",
       "      <th>gross margin percentage</th>\n",
       "      <th>gross income</th>\n",
       "      <th>Rating</th>\n",
       "    </tr>\n",
       "  </thead>\n",
       "  <tbody>\n",
       "    <tr>\n",
       "      <th>0</th>\n",
       "      <td>750-67-8428</td>\n",
       "      <td>A</td>\n",
       "      <td>Yangon</td>\n",
       "      <td>Member</td>\n",
       "      <td>Female</td>\n",
       "      <td>Health and beauty</td>\n",
       "      <td>74.69</td>\n",
       "      <td>7</td>\n",
       "      <td>26.1415</td>\n",
       "      <td>548.9715</td>\n",
       "      <td>2019-01-05</td>\n",
       "      <td>13:08:00</td>\n",
       "      <td>Ewallet</td>\n",
       "      <td>522.83</td>\n",
       "      <td>4.761905</td>\n",
       "      <td>26.1415</td>\n",
       "      <td>9.1</td>\n",
       "    </tr>\n",
       "    <tr>\n",
       "      <th>1</th>\n",
       "      <td>226-31-3081</td>\n",
       "      <td>C</td>\n",
       "      <td>Naypyitaw</td>\n",
       "      <td>Normal</td>\n",
       "      <td>Female</td>\n",
       "      <td>Electronic accessories</td>\n",
       "      <td>15.28</td>\n",
       "      <td>5</td>\n",
       "      <td>3.8200</td>\n",
       "      <td>80.2200</td>\n",
       "      <td>2019-03-08</td>\n",
       "      <td>10:29:00</td>\n",
       "      <td>Cash</td>\n",
       "      <td>76.40</td>\n",
       "      <td>4.761905</td>\n",
       "      <td>3.8200</td>\n",
       "      <td>9.6</td>\n",
       "    </tr>\n",
       "    <tr>\n",
       "      <th>2</th>\n",
       "      <td>631-41-3108</td>\n",
       "      <td>A</td>\n",
       "      <td>Yangon</td>\n",
       "      <td>Normal</td>\n",
       "      <td>Male</td>\n",
       "      <td>Home and lifestyle</td>\n",
       "      <td>46.33</td>\n",
       "      <td>7</td>\n",
       "      <td>16.2155</td>\n",
       "      <td>340.5255</td>\n",
       "      <td>2019-03-03</td>\n",
       "      <td>13:23:00</td>\n",
       "      <td>Credit card</td>\n",
       "      <td>324.31</td>\n",
       "      <td>4.761905</td>\n",
       "      <td>16.2155</td>\n",
       "      <td>7.4</td>\n",
       "    </tr>\n",
       "    <tr>\n",
       "      <th>3</th>\n",
       "      <td>123-19-1176</td>\n",
       "      <td>A</td>\n",
       "      <td>Yangon</td>\n",
       "      <td>Member</td>\n",
       "      <td>Male</td>\n",
       "      <td>Health and beauty</td>\n",
       "      <td>58.22</td>\n",
       "      <td>8</td>\n",
       "      <td>23.2880</td>\n",
       "      <td>489.0480</td>\n",
       "      <td>2019-01-27</td>\n",
       "      <td>20:33:00</td>\n",
       "      <td>Ewallet</td>\n",
       "      <td>465.76</td>\n",
       "      <td>4.761905</td>\n",
       "      <td>23.2880</td>\n",
       "      <td>8.4</td>\n",
       "    </tr>\n",
       "    <tr>\n",
       "      <th>4</th>\n",
       "      <td>373-73-7910</td>\n",
       "      <td>A</td>\n",
       "      <td>Yangon</td>\n",
       "      <td>Normal</td>\n",
       "      <td>Male</td>\n",
       "      <td>Sports and travel</td>\n",
       "      <td>86.31</td>\n",
       "      <td>7</td>\n",
       "      <td>30.2085</td>\n",
       "      <td>634.3785</td>\n",
       "      <td>2019-02-08</td>\n",
       "      <td>10:37:00</td>\n",
       "      <td>Ewallet</td>\n",
       "      <td>604.17</td>\n",
       "      <td>4.761905</td>\n",
       "      <td>30.2085</td>\n",
       "      <td>5.3</td>\n",
       "    </tr>\n",
       "  </tbody>\n",
       "</table>\n",
       "</div>"
      ],
      "text/plain": [
       "    Invoice ID Branch       City Customer type  Gender  \\\n",
       "0  750-67-8428      A     Yangon        Member  Female   \n",
       "1  226-31-3081      C  Naypyitaw        Normal  Female   \n",
       "2  631-41-3108      A     Yangon        Normal    Male   \n",
       "3  123-19-1176      A     Yangon        Member    Male   \n",
       "4  373-73-7910      A     Yangon        Normal    Male   \n",
       "\n",
       "             Product line  Unit price  Quantity   Tax 5%     Total  \\\n",
       "0       Health and beauty       74.69         7  26.1415  548.9715   \n",
       "1  Electronic accessories       15.28         5   3.8200   80.2200   \n",
       "2      Home and lifestyle       46.33         7  16.2155  340.5255   \n",
       "3       Health and beauty       58.22         8  23.2880  489.0480   \n",
       "4       Sports and travel       86.31         7  30.2085  634.3785   \n",
       "\n",
       "         Date      Time      Payment    cogs  gross margin percentage  \\\n",
       "0  2019-01-05  13:08:00      Ewallet  522.83                 4.761905   \n",
       "1  2019-03-08  10:29:00         Cash   76.40                 4.761905   \n",
       "2  2019-03-03  13:23:00  Credit card  324.31                 4.761905   \n",
       "3  2019-01-27  20:33:00      Ewallet  465.76                 4.761905   \n",
       "4  2019-02-08  10:37:00      Ewallet  604.17                 4.761905   \n",
       "\n",
       "   gross income  Rating  \n",
       "0       26.1415     9.1  \n",
       "1        3.8200     9.6  \n",
       "2       16.2155     7.4  \n",
       "3       23.2880     8.4  \n",
       "4       30.2085     5.3  "
      ]
     },
     "execution_count": 3,
     "metadata": {},
     "output_type": "execute_result"
    }
   ],
   "source": [
    "df.head()"
   ]
  },
  {
   "cell_type": "code",
   "execution_count": 4,
   "id": "c47ff39a-f125-4734-893c-94d50593d3a5",
   "metadata": {},
   "outputs": [
    {
     "data": {
      "text/html": [
       "<div>\n",
       "<style scoped>\n",
       "    .dataframe tbody tr th:only-of-type {\n",
       "        vertical-align: middle;\n",
       "    }\n",
       "\n",
       "    .dataframe tbody tr th {\n",
       "        vertical-align: top;\n",
       "    }\n",
       "\n",
       "    .dataframe thead th {\n",
       "        text-align: right;\n",
       "    }\n",
       "</style>\n",
       "<table border=\"1\" class=\"dataframe\">\n",
       "  <thead>\n",
       "    <tr style=\"text-align: right;\">\n",
       "      <th></th>\n",
       "      <th>Invoice ID</th>\n",
       "      <th>Branch</th>\n",
       "      <th>City</th>\n",
       "      <th>Customer type</th>\n",
       "      <th>Gender</th>\n",
       "      <th>Product line</th>\n",
       "      <th>Unit price</th>\n",
       "      <th>Quantity</th>\n",
       "      <th>Tax 5%</th>\n",
       "      <th>Total</th>\n",
       "      <th>Date</th>\n",
       "      <th>Time</th>\n",
       "      <th>Payment</th>\n",
       "      <th>cogs</th>\n",
       "      <th>gross margin percentage</th>\n",
       "      <th>gross income</th>\n",
       "      <th>Rating</th>\n",
       "    </tr>\n",
       "  </thead>\n",
       "  <tbody>\n",
       "    <tr>\n",
       "      <th>995</th>\n",
       "      <td>233-67-5758</td>\n",
       "      <td>C</td>\n",
       "      <td>Naypyitaw</td>\n",
       "      <td>Normal</td>\n",
       "      <td>Male</td>\n",
       "      <td>Health and beauty</td>\n",
       "      <td>40.35</td>\n",
       "      <td>1</td>\n",
       "      <td>2.0175</td>\n",
       "      <td>42.3675</td>\n",
       "      <td>2019-01-29</td>\n",
       "      <td>13:46:00</td>\n",
       "      <td>Ewallet</td>\n",
       "      <td>40.35</td>\n",
       "      <td>4.761905</td>\n",
       "      <td>2.0175</td>\n",
       "      <td>6.2</td>\n",
       "    </tr>\n",
       "    <tr>\n",
       "      <th>996</th>\n",
       "      <td>303-96-2227</td>\n",
       "      <td>B</td>\n",
       "      <td>Mandalay</td>\n",
       "      <td>Normal</td>\n",
       "      <td>Female</td>\n",
       "      <td>Home and lifestyle</td>\n",
       "      <td>97.38</td>\n",
       "      <td>10</td>\n",
       "      <td>48.6900</td>\n",
       "      <td>1022.4900</td>\n",
       "      <td>2019-03-02</td>\n",
       "      <td>17:16:00</td>\n",
       "      <td>Ewallet</td>\n",
       "      <td>973.80</td>\n",
       "      <td>4.761905</td>\n",
       "      <td>48.6900</td>\n",
       "      <td>4.4</td>\n",
       "    </tr>\n",
       "    <tr>\n",
       "      <th>997</th>\n",
       "      <td>727-02-1313</td>\n",
       "      <td>A</td>\n",
       "      <td>Yangon</td>\n",
       "      <td>Member</td>\n",
       "      <td>Male</td>\n",
       "      <td>Food and beverages</td>\n",
       "      <td>31.84</td>\n",
       "      <td>1</td>\n",
       "      <td>1.5920</td>\n",
       "      <td>33.4320</td>\n",
       "      <td>2019-02-09</td>\n",
       "      <td>13:22:00</td>\n",
       "      <td>Cash</td>\n",
       "      <td>31.84</td>\n",
       "      <td>4.761905</td>\n",
       "      <td>1.5920</td>\n",
       "      <td>7.7</td>\n",
       "    </tr>\n",
       "    <tr>\n",
       "      <th>998</th>\n",
       "      <td>347-56-2442</td>\n",
       "      <td>A</td>\n",
       "      <td>Yangon</td>\n",
       "      <td>Normal</td>\n",
       "      <td>Male</td>\n",
       "      <td>Home and lifestyle</td>\n",
       "      <td>65.82</td>\n",
       "      <td>1</td>\n",
       "      <td>3.2910</td>\n",
       "      <td>69.1110</td>\n",
       "      <td>2019-02-22</td>\n",
       "      <td>15:33:00</td>\n",
       "      <td>Cash</td>\n",
       "      <td>65.82</td>\n",
       "      <td>4.761905</td>\n",
       "      <td>3.2910</td>\n",
       "      <td>4.1</td>\n",
       "    </tr>\n",
       "    <tr>\n",
       "      <th>999</th>\n",
       "      <td>849-09-3807</td>\n",
       "      <td>A</td>\n",
       "      <td>Yangon</td>\n",
       "      <td>Member</td>\n",
       "      <td>Female</td>\n",
       "      <td>Fashion accessories</td>\n",
       "      <td>88.34</td>\n",
       "      <td>7</td>\n",
       "      <td>30.9190</td>\n",
       "      <td>649.2990</td>\n",
       "      <td>2019-02-18</td>\n",
       "      <td>13:28:00</td>\n",
       "      <td>Cash</td>\n",
       "      <td>618.38</td>\n",
       "      <td>4.761905</td>\n",
       "      <td>30.9190</td>\n",
       "      <td>6.6</td>\n",
       "    </tr>\n",
       "  </tbody>\n",
       "</table>\n",
       "</div>"
      ],
      "text/plain": [
       "      Invoice ID Branch       City Customer type  Gender         Product line  \\\n",
       "995  233-67-5758      C  Naypyitaw        Normal    Male    Health and beauty   \n",
       "996  303-96-2227      B   Mandalay        Normal  Female   Home and lifestyle   \n",
       "997  727-02-1313      A     Yangon        Member    Male   Food and beverages   \n",
       "998  347-56-2442      A     Yangon        Normal    Male   Home and lifestyle   \n",
       "999  849-09-3807      A     Yangon        Member  Female  Fashion accessories   \n",
       "\n",
       "     Unit price  Quantity   Tax 5%      Total        Date      Time  Payment  \\\n",
       "995       40.35         1   2.0175    42.3675  2019-01-29  13:46:00  Ewallet   \n",
       "996       97.38        10  48.6900  1022.4900  2019-03-02  17:16:00  Ewallet   \n",
       "997       31.84         1   1.5920    33.4320  2019-02-09  13:22:00     Cash   \n",
       "998       65.82         1   3.2910    69.1110  2019-02-22  15:33:00     Cash   \n",
       "999       88.34         7  30.9190   649.2990  2019-02-18  13:28:00     Cash   \n",
       "\n",
       "       cogs  gross margin percentage  gross income  Rating  \n",
       "995   40.35                 4.761905        2.0175     6.2  \n",
       "996  973.80                 4.761905       48.6900     4.4  \n",
       "997   31.84                 4.761905        1.5920     7.7  \n",
       "998   65.82                 4.761905        3.2910     4.1  \n",
       "999  618.38                 4.761905       30.9190     6.6  "
      ]
     },
     "execution_count": 4,
     "metadata": {},
     "output_type": "execute_result"
    }
   ],
   "source": [
    "df.tail()"
   ]
  },
  {
   "cell_type": "markdown",
   "id": "e32f46c2",
   "metadata": {},
   "source": [
    "# Convert date into date formate and extract day"
   ]
  },
  {
   "cell_type": "code",
   "execution_count": 5,
   "id": "ccdeebba-2b57-478a-8763-1152e1e9ab3a",
   "metadata": {},
   "outputs": [],
   "source": [
    "df['day']=pd.to_datetime(df['Date']).dt.day"
   ]
  },
  {
   "cell_type": "code",
   "execution_count": 6,
   "id": "8c5c1602-6c82-4377-9da7-763b069e52be",
   "metadata": {},
   "outputs": [
    {
     "name": "stdout",
     "output_type": "stream",
     "text": [
      "<class 'pandas.core.frame.DataFrame'>\n",
      "RangeIndex: 1000 entries, 0 to 999\n",
      "Data columns (total 18 columns):\n",
      " #   Column                   Non-Null Count  Dtype  \n",
      "---  ------                   --------------  -----  \n",
      " 0   Invoice ID               1000 non-null   object \n",
      " 1   Branch                   1000 non-null   object \n",
      " 2   City                     1000 non-null   object \n",
      " 3   Customer type            1000 non-null   object \n",
      " 4   Gender                   1000 non-null   object \n",
      " 5   Product line             1000 non-null   object \n",
      " 6   Unit price               1000 non-null   float64\n",
      " 7   Quantity                 1000 non-null   int64  \n",
      " 8   Tax 5%                   1000 non-null   float64\n",
      " 9   Total                    1000 non-null   float64\n",
      " 10  Date                     1000 non-null   object \n",
      " 11  Time                     1000 non-null   object \n",
      " 12  Payment                  1000 non-null   object \n",
      " 13  cogs                     1000 non-null   float64\n",
      " 14  gross margin percentage  1000 non-null   float64\n",
      " 15  gross income             1000 non-null   float64\n",
      " 16  Rating                   1000 non-null   float64\n",
      " 17  day                      1000 non-null   int32  \n",
      "dtypes: float64(7), int32(1), int64(1), object(9)\n",
      "memory usage: 136.8+ KB\n"
     ]
    }
   ],
   "source": [
    "df.info()"
   ]
  },
  {
   "cell_type": "code",
   "execution_count": 7,
   "id": "45e4397d-d428-4703-bf86-b31d2b23281e",
   "metadata": {},
   "outputs": [
    {
     "data": {
      "text/plain": [
       "0    4.761905\n",
       "1    4.761905\n",
       "2    4.761905\n",
       "3    4.761905\n",
       "4    4.761905\n",
       "Name: gross margin percentage, dtype: float64"
      ]
     },
     "execution_count": 7,
     "metadata": {},
     "output_type": "execute_result"
    }
   ],
   "source": [
    "df['gross margin percentage']=df['gross income']/df['Total']*100\n",
    "df['gross margin percentage'].head()"
   ]
  },
  {
   "cell_type": "code",
   "execution_count": 8,
   "id": "27d93e05-e1e2-4018-b518-18535286fac2",
   "metadata": {},
   "outputs": [
    {
     "data": {
      "text/plain": [
       "(1000, 18)"
      ]
     },
     "execution_count": 8,
     "metadata": {},
     "output_type": "execute_result"
    }
   ],
   "source": [
    "df.shape"
   ]
  },
  {
   "cell_type": "code",
   "execution_count": 9,
   "id": "47d42494-e1d2-42e6-9229-97844277dcd7",
   "metadata": {},
   "outputs": [
    {
     "data": {
      "text/plain": [
       "18000"
      ]
     },
     "execution_count": 9,
     "metadata": {},
     "output_type": "execute_result"
    }
   ],
   "source": [
    "df.size"
   ]
  },
  {
   "cell_type": "code",
   "execution_count": 10,
   "id": "30cf5598-b556-40b3-9b88-d2ad274fb450",
   "metadata": {},
   "outputs": [
    {
     "data": {
      "text/plain": [
       "Index(['Invoice ID', 'Branch', 'City', 'Customer type', 'Gender',\n",
       "       'Product line', 'Unit price', 'Quantity', 'Tax 5%', 'Total', 'Date',\n",
       "       'Time', 'Payment', 'cogs', 'gross margin percentage', 'gross income',\n",
       "       'Rating', 'day'],\n",
       "      dtype='object')"
      ]
     },
     "execution_count": 10,
     "metadata": {},
     "output_type": "execute_result"
    }
   ],
   "source": [
    "df.columns"
   ]
  },
  {
   "cell_type": "code",
   "execution_count": 11,
   "id": "6ac1eaa3-d51c-438a-b0ba-98251186aaf6",
   "metadata": {},
   "outputs": [
    {
     "data": {
      "text/plain": [
       "Invoice ID                  object\n",
       "Branch                      object\n",
       "City                        object\n",
       "Customer type               object\n",
       "Gender                      object\n",
       "Product line                object\n",
       "Unit price                 float64\n",
       "Quantity                     int64\n",
       "Tax 5%                     float64\n",
       "Total                      float64\n",
       "Date                        object\n",
       "Time                        object\n",
       "Payment                     object\n",
       "cogs                       float64\n",
       "gross margin percentage    float64\n",
       "gross income               float64\n",
       "Rating                     float64\n",
       "day                          int32\n",
       "dtype: object"
      ]
     },
     "execution_count": 11,
     "metadata": {},
     "output_type": "execute_result"
    }
   ],
   "source": [
    "df.dtypes"
   ]
  },
  {
   "cell_type": "markdown",
   "id": "6e846f4b-99a9-4472-aa9f-38b1351993ff",
   "metadata": {},
   "source": [
    "# statical describing"
   ]
  },
  {
   "cell_type": "code",
   "execution_count": 12,
   "id": "75eebdd9-711f-47e5-a932-0426fb477cf8",
   "metadata": {},
   "outputs": [
    {
     "data": {
      "text/html": [
       "<div>\n",
       "<style scoped>\n",
       "    .dataframe tbody tr th:only-of-type {\n",
       "        vertical-align: middle;\n",
       "    }\n",
       "\n",
       "    .dataframe tbody tr th {\n",
       "        vertical-align: top;\n",
       "    }\n",
       "\n",
       "    .dataframe thead th {\n",
       "        text-align: right;\n",
       "    }\n",
       "</style>\n",
       "<table border=\"1\" class=\"dataframe\">\n",
       "  <thead>\n",
       "    <tr style=\"text-align: right;\">\n",
       "      <th></th>\n",
       "      <th>Unit price</th>\n",
       "      <th>Quantity</th>\n",
       "      <th>Tax 5%</th>\n",
       "      <th>Total</th>\n",
       "      <th>cogs</th>\n",
       "      <th>gross margin percentage</th>\n",
       "      <th>gross income</th>\n",
       "      <th>Rating</th>\n",
       "      <th>day</th>\n",
       "    </tr>\n",
       "  </thead>\n",
       "  <tbody>\n",
       "    <tr>\n",
       "      <th>count</th>\n",
       "      <td>1000.000000</td>\n",
       "      <td>1000.000000</td>\n",
       "      <td>1000.000000</td>\n",
       "      <td>1000.000000</td>\n",
       "      <td>1000.00000</td>\n",
       "      <td>1.000000e+03</td>\n",
       "      <td>1000.000000</td>\n",
       "      <td>1000.00000</td>\n",
       "      <td>1000.000000</td>\n",
       "    </tr>\n",
       "    <tr>\n",
       "      <th>mean</th>\n",
       "      <td>55.672130</td>\n",
       "      <td>5.510000</td>\n",
       "      <td>15.379369</td>\n",
       "      <td>322.966749</td>\n",
       "      <td>307.58738</td>\n",
       "      <td>4.761905e+00</td>\n",
       "      <td>15.379369</td>\n",
       "      <td>6.97270</td>\n",
       "      <td>15.256000</td>\n",
       "    </tr>\n",
       "    <tr>\n",
       "      <th>std</th>\n",
       "      <td>26.494628</td>\n",
       "      <td>2.923431</td>\n",
       "      <td>11.708825</td>\n",
       "      <td>245.885335</td>\n",
       "      <td>234.17651</td>\n",
       "      <td>8.210573e-14</td>\n",
       "      <td>11.708825</td>\n",
       "      <td>1.71858</td>\n",
       "      <td>8.693563</td>\n",
       "    </tr>\n",
       "    <tr>\n",
       "      <th>min</th>\n",
       "      <td>10.080000</td>\n",
       "      <td>1.000000</td>\n",
       "      <td>0.508500</td>\n",
       "      <td>10.678500</td>\n",
       "      <td>10.17000</td>\n",
       "      <td>4.761905e+00</td>\n",
       "      <td>0.508500</td>\n",
       "      <td>4.00000</td>\n",
       "      <td>1.000000</td>\n",
       "    </tr>\n",
       "    <tr>\n",
       "      <th>25%</th>\n",
       "      <td>32.875000</td>\n",
       "      <td>3.000000</td>\n",
       "      <td>5.924875</td>\n",
       "      <td>124.422375</td>\n",
       "      <td>118.49750</td>\n",
       "      <td>4.761905e+00</td>\n",
       "      <td>5.924875</td>\n",
       "      <td>5.50000</td>\n",
       "      <td>8.000000</td>\n",
       "    </tr>\n",
       "    <tr>\n",
       "      <th>50%</th>\n",
       "      <td>55.230000</td>\n",
       "      <td>5.000000</td>\n",
       "      <td>12.088000</td>\n",
       "      <td>253.848000</td>\n",
       "      <td>241.76000</td>\n",
       "      <td>4.761905e+00</td>\n",
       "      <td>12.088000</td>\n",
       "      <td>7.00000</td>\n",
       "      <td>15.000000</td>\n",
       "    </tr>\n",
       "    <tr>\n",
       "      <th>75%</th>\n",
       "      <td>77.935000</td>\n",
       "      <td>8.000000</td>\n",
       "      <td>22.445250</td>\n",
       "      <td>471.350250</td>\n",
       "      <td>448.90500</td>\n",
       "      <td>4.761905e+00</td>\n",
       "      <td>22.445250</td>\n",
       "      <td>8.50000</td>\n",
       "      <td>23.000000</td>\n",
       "    </tr>\n",
       "    <tr>\n",
       "      <th>max</th>\n",
       "      <td>99.960000</td>\n",
       "      <td>10.000000</td>\n",
       "      <td>49.650000</td>\n",
       "      <td>1042.650000</td>\n",
       "      <td>993.00000</td>\n",
       "      <td>4.761905e+00</td>\n",
       "      <td>49.650000</td>\n",
       "      <td>10.00000</td>\n",
       "      <td>31.000000</td>\n",
       "    </tr>\n",
       "  </tbody>\n",
       "</table>\n",
       "</div>"
      ],
      "text/plain": [
       "        Unit price     Quantity       Tax 5%        Total        cogs  \\\n",
       "count  1000.000000  1000.000000  1000.000000  1000.000000  1000.00000   \n",
       "mean     55.672130     5.510000    15.379369   322.966749   307.58738   \n",
       "std      26.494628     2.923431    11.708825   245.885335   234.17651   \n",
       "min      10.080000     1.000000     0.508500    10.678500    10.17000   \n",
       "25%      32.875000     3.000000     5.924875   124.422375   118.49750   \n",
       "50%      55.230000     5.000000    12.088000   253.848000   241.76000   \n",
       "75%      77.935000     8.000000    22.445250   471.350250   448.90500   \n",
       "max      99.960000    10.000000    49.650000  1042.650000   993.00000   \n",
       "\n",
       "       gross margin percentage  gross income      Rating          day  \n",
       "count             1.000000e+03   1000.000000  1000.00000  1000.000000  \n",
       "mean              4.761905e+00     15.379369     6.97270    15.256000  \n",
       "std               8.210573e-14     11.708825     1.71858     8.693563  \n",
       "min               4.761905e+00      0.508500     4.00000     1.000000  \n",
       "25%               4.761905e+00      5.924875     5.50000     8.000000  \n",
       "50%               4.761905e+00     12.088000     7.00000    15.000000  \n",
       "75%               4.761905e+00     22.445250     8.50000    23.000000  \n",
       "max               4.761905e+00     49.650000    10.00000    31.000000  "
      ]
     },
     "execution_count": 12,
     "metadata": {},
     "output_type": "execute_result"
    }
   ],
   "source": [
    "df.describe()"
   ]
  },
  {
   "cell_type": "markdown",
   "id": "266e1ca3-7762-4625-84ee-0b1c4949a568",
   "metadata": {},
   "source": [
    "# categorical describing"
   ]
  },
  {
   "cell_type": "code",
   "execution_count": 13,
   "id": "09385f28-508a-4d2c-9e0c-069454aab129",
   "metadata": {},
   "outputs": [
    {
     "data": {
      "text/html": [
       "<div>\n",
       "<style scoped>\n",
       "    .dataframe tbody tr th:only-of-type {\n",
       "        vertical-align: middle;\n",
       "    }\n",
       "\n",
       "    .dataframe tbody tr th {\n",
       "        vertical-align: top;\n",
       "    }\n",
       "\n",
       "    .dataframe thead th {\n",
       "        text-align: right;\n",
       "    }\n",
       "</style>\n",
       "<table border=\"1\" class=\"dataframe\">\n",
       "  <thead>\n",
       "    <tr style=\"text-align: right;\">\n",
       "      <th></th>\n",
       "      <th>Invoice ID</th>\n",
       "      <th>Branch</th>\n",
       "      <th>City</th>\n",
       "      <th>Customer type</th>\n",
       "      <th>Gender</th>\n",
       "      <th>Product line</th>\n",
       "      <th>Date</th>\n",
       "      <th>Time</th>\n",
       "      <th>Payment</th>\n",
       "    </tr>\n",
       "  </thead>\n",
       "  <tbody>\n",
       "    <tr>\n",
       "      <th>count</th>\n",
       "      <td>1000</td>\n",
       "      <td>1000</td>\n",
       "      <td>1000</td>\n",
       "      <td>1000</td>\n",
       "      <td>1000</td>\n",
       "      <td>1000</td>\n",
       "      <td>1000</td>\n",
       "      <td>1000</td>\n",
       "      <td>1000</td>\n",
       "    </tr>\n",
       "    <tr>\n",
       "      <th>unique</th>\n",
       "      <td>1000</td>\n",
       "      <td>3</td>\n",
       "      <td>3</td>\n",
       "      <td>2</td>\n",
       "      <td>2</td>\n",
       "      <td>6</td>\n",
       "      <td>89</td>\n",
       "      <td>506</td>\n",
       "      <td>3</td>\n",
       "    </tr>\n",
       "    <tr>\n",
       "      <th>top</th>\n",
       "      <td>750-67-8428</td>\n",
       "      <td>A</td>\n",
       "      <td>Yangon</td>\n",
       "      <td>Member</td>\n",
       "      <td>Female</td>\n",
       "      <td>Fashion accessories</td>\n",
       "      <td>2019-02-07</td>\n",
       "      <td>19:48:00</td>\n",
       "      <td>Ewallet</td>\n",
       "    </tr>\n",
       "    <tr>\n",
       "      <th>freq</th>\n",
       "      <td>1</td>\n",
       "      <td>340</td>\n",
       "      <td>340</td>\n",
       "      <td>501</td>\n",
       "      <td>501</td>\n",
       "      <td>178</td>\n",
       "      <td>20</td>\n",
       "      <td>7</td>\n",
       "      <td>345</td>\n",
       "    </tr>\n",
       "  </tbody>\n",
       "</table>\n",
       "</div>"
      ],
      "text/plain": [
       "         Invoice ID Branch    City Customer type  Gender         Product line  \\\n",
       "count          1000   1000    1000          1000    1000                 1000   \n",
       "unique         1000      3       3             2       2                    6   \n",
       "top     750-67-8428      A  Yangon        Member  Female  Fashion accessories   \n",
       "freq              1    340     340           501     501                  178   \n",
       "\n",
       "              Date      Time  Payment  \n",
       "count         1000      1000     1000  \n",
       "unique          89       506        3  \n",
       "top     2019-02-07  19:48:00  Ewallet  \n",
       "freq            20         7      345  "
      ]
     },
     "execution_count": 13,
     "metadata": {},
     "output_type": "execute_result"
    }
   ],
   "source": [
    "df.describe(include='object')"
   ]
  },
  {
   "cell_type": "markdown",
   "id": "da3ad96f-6a64-4c08-8e3a-43c6456453da",
   "metadata": {},
   "source": [
    "# data filtering only obj"
   ]
  },
  {
   "cell_type": "code",
   "execution_count": 14,
   "id": "954d940a-7bf1-4137-b810-7e5cb250f476",
   "metadata": {
    "scrolled": true
   },
   "outputs": [
    {
     "data": {
      "text/html": [
       "<div>\n",
       "<style scoped>\n",
       "    .dataframe tbody tr th:only-of-type {\n",
       "        vertical-align: middle;\n",
       "    }\n",
       "\n",
       "    .dataframe tbody tr th {\n",
       "        vertical-align: top;\n",
       "    }\n",
       "\n",
       "    .dataframe thead th {\n",
       "        text-align: right;\n",
       "    }\n",
       "</style>\n",
       "<table border=\"1\" class=\"dataframe\">\n",
       "  <thead>\n",
       "    <tr style=\"text-align: right;\">\n",
       "      <th></th>\n",
       "      <th>Invoice ID</th>\n",
       "      <th>Branch</th>\n",
       "      <th>City</th>\n",
       "      <th>Customer type</th>\n",
       "      <th>Gender</th>\n",
       "      <th>Product line</th>\n",
       "      <th>Date</th>\n",
       "      <th>Time</th>\n",
       "      <th>Payment</th>\n",
       "    </tr>\n",
       "  </thead>\n",
       "  <tbody>\n",
       "    <tr>\n",
       "      <th>0</th>\n",
       "      <td>750-67-8428</td>\n",
       "      <td>A</td>\n",
       "      <td>Yangon</td>\n",
       "      <td>Member</td>\n",
       "      <td>Female</td>\n",
       "      <td>Health and beauty</td>\n",
       "      <td>2019-01-05</td>\n",
       "      <td>13:08:00</td>\n",
       "      <td>Ewallet</td>\n",
       "    </tr>\n",
       "    <tr>\n",
       "      <th>1</th>\n",
       "      <td>226-31-3081</td>\n",
       "      <td>C</td>\n",
       "      <td>Naypyitaw</td>\n",
       "      <td>Normal</td>\n",
       "      <td>Female</td>\n",
       "      <td>Electronic accessories</td>\n",
       "      <td>2019-03-08</td>\n",
       "      <td>10:29:00</td>\n",
       "      <td>Cash</td>\n",
       "    </tr>\n",
       "    <tr>\n",
       "      <th>2</th>\n",
       "      <td>631-41-3108</td>\n",
       "      <td>A</td>\n",
       "      <td>Yangon</td>\n",
       "      <td>Normal</td>\n",
       "      <td>Male</td>\n",
       "      <td>Home and lifestyle</td>\n",
       "      <td>2019-03-03</td>\n",
       "      <td>13:23:00</td>\n",
       "      <td>Credit card</td>\n",
       "    </tr>\n",
       "    <tr>\n",
       "      <th>3</th>\n",
       "      <td>123-19-1176</td>\n",
       "      <td>A</td>\n",
       "      <td>Yangon</td>\n",
       "      <td>Member</td>\n",
       "      <td>Male</td>\n",
       "      <td>Health and beauty</td>\n",
       "      <td>2019-01-27</td>\n",
       "      <td>20:33:00</td>\n",
       "      <td>Ewallet</td>\n",
       "    </tr>\n",
       "    <tr>\n",
       "      <th>4</th>\n",
       "      <td>373-73-7910</td>\n",
       "      <td>A</td>\n",
       "      <td>Yangon</td>\n",
       "      <td>Normal</td>\n",
       "      <td>Male</td>\n",
       "      <td>Sports and travel</td>\n",
       "      <td>2019-02-08</td>\n",
       "      <td>10:37:00</td>\n",
       "      <td>Ewallet</td>\n",
       "    </tr>\n",
       "  </tbody>\n",
       "</table>\n",
       "</div>"
      ],
      "text/plain": [
       "    Invoice ID Branch       City Customer type  Gender  \\\n",
       "0  750-67-8428      A     Yangon        Member  Female   \n",
       "1  226-31-3081      C  Naypyitaw        Normal  Female   \n",
       "2  631-41-3108      A     Yangon        Normal    Male   \n",
       "3  123-19-1176      A     Yangon        Member    Male   \n",
       "4  373-73-7910      A     Yangon        Normal    Male   \n",
       "\n",
       "             Product line        Date      Time      Payment  \n",
       "0       Health and beauty  2019-01-05  13:08:00      Ewallet  \n",
       "1  Electronic accessories  2019-03-08  10:29:00         Cash  \n",
       "2      Home and lifestyle  2019-03-03  13:23:00  Credit card  \n",
       "3       Health and beauty  2019-01-27  20:33:00      Ewallet  \n",
       "4       Sports and travel  2019-02-08  10:37:00      Ewallet  "
      ]
     },
     "execution_count": 14,
     "metadata": {},
     "output_type": "execute_result"
    }
   ],
   "source": [
    "obj=df[[i for i in df.columns if df[i].dtypes=='object']]\n",
    "obj.head()"
   ]
  },
  {
   "cell_type": "markdown",
   "id": "e89b26e4-2633-4c77-89f0-48f36633c1d6",
   "metadata": {},
   "source": [
    "# data filtering only numerical"
   ]
  },
  {
   "cell_type": "code",
   "execution_count": 15,
   "id": "2ba5a514-3de4-4c74-9e89-e98b8ef3e262",
   "metadata": {},
   "outputs": [
    {
     "data": {
      "text/html": [
       "<div>\n",
       "<style scoped>\n",
       "    .dataframe tbody tr th:only-of-type {\n",
       "        vertical-align: middle;\n",
       "    }\n",
       "\n",
       "    .dataframe tbody tr th {\n",
       "        vertical-align: top;\n",
       "    }\n",
       "\n",
       "    .dataframe thead th {\n",
       "        text-align: right;\n",
       "    }\n",
       "</style>\n",
       "<table border=\"1\" class=\"dataframe\">\n",
       "  <thead>\n",
       "    <tr style=\"text-align: right;\">\n",
       "      <th></th>\n",
       "      <th>Unit price</th>\n",
       "      <th>Quantity</th>\n",
       "      <th>Tax 5%</th>\n",
       "      <th>Total</th>\n",
       "      <th>cogs</th>\n",
       "      <th>gross margin percentage</th>\n",
       "      <th>gross income</th>\n",
       "      <th>Rating</th>\n",
       "      <th>day</th>\n",
       "    </tr>\n",
       "  </thead>\n",
       "  <tbody>\n",
       "    <tr>\n",
       "      <th>0</th>\n",
       "      <td>74.69</td>\n",
       "      <td>7</td>\n",
       "      <td>26.1415</td>\n",
       "      <td>548.9715</td>\n",
       "      <td>522.83</td>\n",
       "      <td>4.761905</td>\n",
       "      <td>26.1415</td>\n",
       "      <td>9.1</td>\n",
       "      <td>5</td>\n",
       "    </tr>\n",
       "    <tr>\n",
       "      <th>1</th>\n",
       "      <td>15.28</td>\n",
       "      <td>5</td>\n",
       "      <td>3.8200</td>\n",
       "      <td>80.2200</td>\n",
       "      <td>76.40</td>\n",
       "      <td>4.761905</td>\n",
       "      <td>3.8200</td>\n",
       "      <td>9.6</td>\n",
       "      <td>8</td>\n",
       "    </tr>\n",
       "    <tr>\n",
       "      <th>2</th>\n",
       "      <td>46.33</td>\n",
       "      <td>7</td>\n",
       "      <td>16.2155</td>\n",
       "      <td>340.5255</td>\n",
       "      <td>324.31</td>\n",
       "      <td>4.761905</td>\n",
       "      <td>16.2155</td>\n",
       "      <td>7.4</td>\n",
       "      <td>3</td>\n",
       "    </tr>\n",
       "    <tr>\n",
       "      <th>3</th>\n",
       "      <td>58.22</td>\n",
       "      <td>8</td>\n",
       "      <td>23.2880</td>\n",
       "      <td>489.0480</td>\n",
       "      <td>465.76</td>\n",
       "      <td>4.761905</td>\n",
       "      <td>23.2880</td>\n",
       "      <td>8.4</td>\n",
       "      <td>27</td>\n",
       "    </tr>\n",
       "    <tr>\n",
       "      <th>4</th>\n",
       "      <td>86.31</td>\n",
       "      <td>7</td>\n",
       "      <td>30.2085</td>\n",
       "      <td>634.3785</td>\n",
       "      <td>604.17</td>\n",
       "      <td>4.761905</td>\n",
       "      <td>30.2085</td>\n",
       "      <td>5.3</td>\n",
       "      <td>8</td>\n",
       "    </tr>\n",
       "  </tbody>\n",
       "</table>\n",
       "</div>"
      ],
      "text/plain": [
       "   Unit price  Quantity   Tax 5%     Total    cogs  gross margin percentage  \\\n",
       "0       74.69         7  26.1415  548.9715  522.83                 4.761905   \n",
       "1       15.28         5   3.8200   80.2200   76.40                 4.761905   \n",
       "2       46.33         7  16.2155  340.5255  324.31                 4.761905   \n",
       "3       58.22         8  23.2880  489.0480  465.76                 4.761905   \n",
       "4       86.31         7  30.2085  634.3785  604.17                 4.761905   \n",
       "\n",
       "   gross income  Rating  day  \n",
       "0       26.1415     9.1    5  \n",
       "1        3.8200     9.6    8  \n",
       "2       16.2155     7.4    3  \n",
       "3       23.2880     8.4   27  \n",
       "4       30.2085     5.3    8  "
      ]
     },
     "execution_count": 15,
     "metadata": {},
     "output_type": "execute_result"
    }
   ],
   "source": [
    "num=df[[i for i in df.columns if df[i].dtypes!='object']]\n",
    "num.head()"
   ]
  },
  {
   "cell_type": "markdown",
   "id": "aaa36b7e-83fc-43cb-93e4-dca7e0445350",
   "metadata": {},
   "source": [
    "# missing data finding"
   ]
  },
  {
   "cell_type": "code",
   "execution_count": 16,
   "id": "7d4bf760-2eec-4e27-85c7-705d70134088",
   "metadata": {},
   "outputs": [
    {
     "data": {
      "text/plain": [
       "Invoice ID                 0\n",
       "Branch                     0\n",
       "City                       0\n",
       "Customer type              0\n",
       "Gender                     0\n",
       "Product line               0\n",
       "Unit price                 0\n",
       "Quantity                   0\n",
       "Tax 5%                     0\n",
       "Total                      0\n",
       "Date                       0\n",
       "Time                       0\n",
       "Payment                    0\n",
       "cogs                       0\n",
       "gross margin percentage    0\n",
       "gross income               0\n",
       "Rating                     0\n",
       "day                        0\n",
       "dtype: int64"
      ]
     },
     "execution_count": 16,
     "metadata": {},
     "output_type": "execute_result"
    }
   ],
   "source": [
    "df.isnull().sum()"
   ]
  },
  {
   "cell_type": "code",
   "execution_count": 17,
   "id": "fb7304fc-6b52-416a-b5b0-aef1870ef384",
   "metadata": {},
   "outputs": [
    {
     "data": {
      "text/plain": [
       "array([ 5,  8,  3, 27, 25, 24, 10, 20,  6,  9, 12,  7, 29, 15, 11,  1, 21,\n",
       "       17,  2, 22, 28, 23,  4, 16, 19, 14, 13, 26, 18, 30, 31])"
      ]
     },
     "execution_count": 17,
     "metadata": {},
     "output_type": "execute_result"
    }
   ],
   "source": [
    "df.day.unique()"
   ]
  },
  {
   "cell_type": "markdown",
   "id": "7dc57de3",
   "metadata": {},
   "source": [
    "# correlation check in numerical dataset"
   ]
  },
  {
   "cell_type": "code",
   "execution_count": 18,
   "id": "e0bd7466-8339-4981-8e8e-26ecc6554d01",
   "metadata": {},
   "outputs": [
    {
     "data": {
      "text/html": [
       "<div>\n",
       "<style scoped>\n",
       "    .dataframe tbody tr th:only-of-type {\n",
       "        vertical-align: middle;\n",
       "    }\n",
       "\n",
       "    .dataframe tbody tr th {\n",
       "        vertical-align: top;\n",
       "    }\n",
       "\n",
       "    .dataframe thead th {\n",
       "        text-align: right;\n",
       "    }\n",
       "</style>\n",
       "<table border=\"1\" class=\"dataframe\">\n",
       "  <thead>\n",
       "    <tr style=\"text-align: right;\">\n",
       "      <th></th>\n",
       "      <th>Unit price</th>\n",
       "      <th>Quantity</th>\n",
       "      <th>Tax 5%</th>\n",
       "      <th>Total</th>\n",
       "      <th>cogs</th>\n",
       "      <th>gross margin percentage</th>\n",
       "      <th>gross income</th>\n",
       "      <th>Rating</th>\n",
       "      <th>day</th>\n",
       "    </tr>\n",
       "  </thead>\n",
       "  <tbody>\n",
       "    <tr>\n",
       "      <th>Unit price</th>\n",
       "      <td>1.000000</td>\n",
       "      <td>0.010778</td>\n",
       "      <td>0.633962</td>\n",
       "      <td>0.633962</td>\n",
       "      <td>0.633962</td>\n",
       "      <td>0.009757</td>\n",
       "      <td>0.633962</td>\n",
       "      <td>-0.008778</td>\n",
       "      <td>0.057021</td>\n",
       "    </tr>\n",
       "    <tr>\n",
       "      <th>Quantity</th>\n",
       "      <td>0.010778</td>\n",
       "      <td>1.000000</td>\n",
       "      <td>0.705510</td>\n",
       "      <td>0.705510</td>\n",
       "      <td>0.705510</td>\n",
       "      <td>-0.061887</td>\n",
       "      <td>0.705510</td>\n",
       "      <td>-0.015815</td>\n",
       "      <td>-0.043347</td>\n",
       "    </tr>\n",
       "    <tr>\n",
       "      <th>Tax 5%</th>\n",
       "      <td>0.633962</td>\n",
       "      <td>0.705510</td>\n",
       "      <td>1.000000</td>\n",
       "      <td>1.000000</td>\n",
       "      <td>1.000000</td>\n",
       "      <td>-0.047491</td>\n",
       "      <td>1.000000</td>\n",
       "      <td>-0.036442</td>\n",
       "      <td>-0.002515</td>\n",
       "    </tr>\n",
       "    <tr>\n",
       "      <th>Total</th>\n",
       "      <td>0.633962</td>\n",
       "      <td>0.705510</td>\n",
       "      <td>1.000000</td>\n",
       "      <td>1.000000</td>\n",
       "      <td>1.000000</td>\n",
       "      <td>-0.047491</td>\n",
       "      <td>1.000000</td>\n",
       "      <td>-0.036442</td>\n",
       "      <td>-0.002515</td>\n",
       "    </tr>\n",
       "    <tr>\n",
       "      <th>cogs</th>\n",
       "      <td>0.633962</td>\n",
       "      <td>0.705510</td>\n",
       "      <td>1.000000</td>\n",
       "      <td>1.000000</td>\n",
       "      <td>1.000000</td>\n",
       "      <td>-0.047491</td>\n",
       "      <td>1.000000</td>\n",
       "      <td>-0.036442</td>\n",
       "      <td>-0.002515</td>\n",
       "    </tr>\n",
       "    <tr>\n",
       "      <th>gross margin percentage</th>\n",
       "      <td>0.009757</td>\n",
       "      <td>-0.061887</td>\n",
       "      <td>-0.047491</td>\n",
       "      <td>-0.047491</td>\n",
       "      <td>-0.047491</td>\n",
       "      <td>1.000000</td>\n",
       "      <td>-0.048890</td>\n",
       "      <td>0.022969</td>\n",
       "      <td>0.081058</td>\n",
       "    </tr>\n",
       "    <tr>\n",
       "      <th>gross income</th>\n",
       "      <td>0.633962</td>\n",
       "      <td>0.705510</td>\n",
       "      <td>1.000000</td>\n",
       "      <td>1.000000</td>\n",
       "      <td>1.000000</td>\n",
       "      <td>-0.048890</td>\n",
       "      <td>1.000000</td>\n",
       "      <td>-0.036442</td>\n",
       "      <td>-0.002515</td>\n",
       "    </tr>\n",
       "    <tr>\n",
       "      <th>Rating</th>\n",
       "      <td>-0.008778</td>\n",
       "      <td>-0.015815</td>\n",
       "      <td>-0.036442</td>\n",
       "      <td>-0.036442</td>\n",
       "      <td>-0.036442</td>\n",
       "      <td>0.022969</td>\n",
       "      <td>-0.036442</td>\n",
       "      <td>1.000000</td>\n",
       "      <td>-0.007076</td>\n",
       "    </tr>\n",
       "    <tr>\n",
       "      <th>day</th>\n",
       "      <td>0.057021</td>\n",
       "      <td>-0.043347</td>\n",
       "      <td>-0.002515</td>\n",
       "      <td>-0.002515</td>\n",
       "      <td>-0.002515</td>\n",
       "      <td>0.081058</td>\n",
       "      <td>-0.002515</td>\n",
       "      <td>-0.007076</td>\n",
       "      <td>1.000000</td>\n",
       "    </tr>\n",
       "  </tbody>\n",
       "</table>\n",
       "</div>"
      ],
      "text/plain": [
       "                         Unit price  Quantity    Tax 5%     Total      cogs  \\\n",
       "Unit price                 1.000000  0.010778  0.633962  0.633962  0.633962   \n",
       "Quantity                   0.010778  1.000000  0.705510  0.705510  0.705510   \n",
       "Tax 5%                     0.633962  0.705510  1.000000  1.000000  1.000000   \n",
       "Total                      0.633962  0.705510  1.000000  1.000000  1.000000   \n",
       "cogs                       0.633962  0.705510  1.000000  1.000000  1.000000   \n",
       "gross margin percentage    0.009757 -0.061887 -0.047491 -0.047491 -0.047491   \n",
       "gross income               0.633962  0.705510  1.000000  1.000000  1.000000   \n",
       "Rating                    -0.008778 -0.015815 -0.036442 -0.036442 -0.036442   \n",
       "day                        0.057021 -0.043347 -0.002515 -0.002515 -0.002515   \n",
       "\n",
       "                         gross margin percentage  gross income    Rating  \\\n",
       "Unit price                              0.009757      0.633962 -0.008778   \n",
       "Quantity                               -0.061887      0.705510 -0.015815   \n",
       "Tax 5%                                 -0.047491      1.000000 -0.036442   \n",
       "Total                                  -0.047491      1.000000 -0.036442   \n",
       "cogs                                   -0.047491      1.000000 -0.036442   \n",
       "gross margin percentage                 1.000000     -0.048890  0.022969   \n",
       "gross income                           -0.048890      1.000000 -0.036442   \n",
       "Rating                                  0.022969     -0.036442  1.000000   \n",
       "day                                     0.081058     -0.002515 -0.007076   \n",
       "\n",
       "                              day  \n",
       "Unit price               0.057021  \n",
       "Quantity                -0.043347  \n",
       "Tax 5%                  -0.002515  \n",
       "Total                   -0.002515  \n",
       "cogs                    -0.002515  \n",
       "gross margin percentage  0.081058  \n",
       "gross income            -0.002515  \n",
       "Rating                  -0.007076  \n",
       "day                      1.000000  "
      ]
     },
     "execution_count": 18,
     "metadata": {},
     "output_type": "execute_result"
    }
   ],
   "source": [
    "num.corr()"
   ]
  },
  {
   "cell_type": "code",
   "execution_count": 19,
   "id": "da22fee1-2ff2-4a76-b7c8-5d868c7cbcb6",
   "metadata": {},
   "outputs": [
    {
     "data": {
      "text/plain": [
       "Unit price                 0\n",
       "Quantity                   0\n",
       "Tax 5%                     0\n",
       "Total                      0\n",
       "cogs                       0\n",
       "gross margin percentage    0\n",
       "gross income               0\n",
       "Rating                     0\n",
       "day                        0\n",
       "dtype: int64"
      ]
     },
     "execution_count": 19,
     "metadata": {},
     "output_type": "execute_result"
    }
   ],
   "source": [
    "num.isna().sum()"
   ]
  },
  {
   "cell_type": "code",
   "execution_count": 20,
   "id": "cdf8944e-04cf-4eb3-837f-b40f40e86745",
   "metadata": {},
   "outputs": [
    {
     "data": {
      "text/plain": [
       "Unit price                 943\n",
       "Quantity                    10\n",
       "Tax 5%                     990\n",
       "Total                      990\n",
       "cogs                       990\n",
       "gross margin percentage      3\n",
       "gross income               990\n",
       "Rating                      61\n",
       "day                         31\n",
       "dtype: int64"
      ]
     },
     "execution_count": 20,
     "metadata": {},
     "output_type": "execute_result"
    }
   ],
   "source": [
    "num.nunique()"
   ]
  },
  {
   "cell_type": "code",
   "execution_count": 21,
   "id": "c485659f-fc4a-4198-967e-91cd21a840e5",
   "metadata": {},
   "outputs": [
    {
     "data": {
      "text/plain": [
       "array([4.76190476, 4.76190476, 4.76190476])"
      ]
     },
     "execution_count": 21,
     "metadata": {},
     "output_type": "execute_result"
    }
   ],
   "source": [
    "df['gross margin percentage'].unique()"
   ]
  },
  {
   "cell_type": "markdown",
   "id": "5a52276a",
   "metadata": {},
   "source": [
    "# Visualizing boxplot in Numerical data for outlier check"
   ]
  },
  {
   "cell_type": "code",
   "execution_count": 22,
   "id": "ac8d91c1-b0e2-4c2f-9eb4-c7d6fb6f60ae",
   "metadata": {},
   "outputs": [
    {
     "data": {
      "text/plain": [
       "<Axes: >"
      ]
     },
     "execution_count": 22,
     "metadata": {},
     "output_type": "execute_result"
    },
    {
     "data": {
      "image/png": "[encoded data removed]",
      "text/plain": [
       "<Figure size 640x480 with 1 Axes>"
      ]
     },
     "metadata": {},
     "output_type": "display_data"
    }
   ],
   "source": [
    "\n",
    "sns.boxplot(num)"
   ]
  },
  {
   "cell_type": "code",
   "execution_count": 23,
   "id": "64d5b0e5-d739-494a-81fd-c45070e60f08",
   "metadata": {},
   "outputs": [
    {
     "data": {
      "text/plain": [
       "<Axes: >"
      ]
     },
     "execution_count": 23,
     "metadata": {},
     "output_type": "execute_result"
    },
    {
     "data": {
      "image/png": "[encoded data removed]",
      "text/plain": [
       "<Figure size 640x480 with 1 Axes>"
      ]
     },
     "metadata": {},
     "output_type": "display_data"
    }
   ],
   "source": [
    "sns.boxplot(df[['Total','gross margin percentage','cogs','Tax 5%']])"
   ]
  },
  {
   "cell_type": "markdown",
   "id": "dc7bc6ca-7adb-4e86-93cf-1bcaa354b1ec",
   "metadata": {},
   "source": [
    "# Here i extrect 25% quantile of numerical dataset and 75% "
   ]
  },
  {
   "cell_type": "code",
   "execution_count": 24,
   "id": "8483f601-7c4a-4ba0-b3a2-098618df8978",
   "metadata": {},
   "outputs": [],
   "source": [
    "q1=[num[i].quantile(0.25) for i in num.columns ]\n",
    "q3=[num[i].quantile(0.75) for i in num.columns ]"
   ]
  },
  {
   "cell_type": "markdown",
   "id": "192d39d8-e891-4b53-9d5a-3a02beb59b1b",
   "metadata": {},
   "source": [
    "# num data columns extracting"
   ]
  },
  {
   "cell_type": "code",
   "execution_count": 25,
   "id": "4c94e60b-90c8-4593-8a95-612cfd8f8eba",
   "metadata": {},
   "outputs": [],
   "source": [
    "col=[ i for i in num.columns]"
   ]
  },
  {
   "cell_type": "markdown",
   "id": "7f753d17",
   "metadata": {},
   "source": [
    "# Create a dataframe of columns and quantile values"
   ]
  },
  {
   "cell_type": "code",
   "execution_count": 26,
   "id": "44cc1789-ef51-480a-8537-e9a71803099e",
   "metadata": {},
   "outputs": [],
   "source": [
    "box=pd.DataFrame({'columns':col,'25% quantile':q1,'75% quantile':q3})"
   ]
  },
  {
   "cell_type": "code",
   "execution_count": 27,
   "id": "c8ef6db0-1222-4f6d-ac29-de222c2a97d1",
   "metadata": {},
   "outputs": [
    {
     "data": {
      "text/html": [
       "<div>\n",
       "<style scoped>\n",
       "    .dataframe tbody tr th:only-of-type {\n",
       "        vertical-align: middle;\n",
       "    }\n",
       "\n",
       "    .dataframe tbody tr th {\n",
       "        vertical-align: top;\n",
       "    }\n",
       "\n",
       "    .dataframe thead th {\n",
       "        text-align: right;\n",
       "    }\n",
       "</style>\n",
       "<table border=\"1\" class=\"dataframe\">\n",
       "  <thead>\n",
       "    <tr style=\"text-align: right;\">\n",
       "      <th></th>\n",
       "      <th>columns</th>\n",
       "      <th>25% quantile</th>\n",
       "      <th>75% quantile</th>\n",
       "    </tr>\n",
       "  </thead>\n",
       "  <tbody>\n",
       "    <tr>\n",
       "      <th>0</th>\n",
       "      <td>Unit price</td>\n",
       "      <td>32.875000</td>\n",
       "      <td>77.935000</td>\n",
       "    </tr>\n",
       "    <tr>\n",
       "      <th>1</th>\n",
       "      <td>Quantity</td>\n",
       "      <td>3.000000</td>\n",
       "      <td>8.000000</td>\n",
       "    </tr>\n",
       "    <tr>\n",
       "      <th>2</th>\n",
       "      <td>Tax 5%</td>\n",
       "      <td>5.924875</td>\n",
       "      <td>22.445250</td>\n",
       "    </tr>\n",
       "    <tr>\n",
       "      <th>3</th>\n",
       "      <td>Total</td>\n",
       "      <td>124.422375</td>\n",
       "      <td>471.350250</td>\n",
       "    </tr>\n",
       "    <tr>\n",
       "      <th>4</th>\n",
       "      <td>cogs</td>\n",
       "      <td>118.497500</td>\n",
       "      <td>448.905000</td>\n",
       "    </tr>\n",
       "    <tr>\n",
       "      <th>5</th>\n",
       "      <td>gross margin percentage</td>\n",
       "      <td>4.761905</td>\n",
       "      <td>4.761905</td>\n",
       "    </tr>\n",
       "    <tr>\n",
       "      <th>6</th>\n",
       "      <td>gross income</td>\n",
       "      <td>5.924875</td>\n",
       "      <td>22.445250</td>\n",
       "    </tr>\n",
       "    <tr>\n",
       "      <th>7</th>\n",
       "      <td>Rating</td>\n",
       "      <td>5.500000</td>\n",
       "      <td>8.500000</td>\n",
       "    </tr>\n",
       "    <tr>\n",
       "      <th>8</th>\n",
       "      <td>day</td>\n",
       "      <td>8.000000</td>\n",
       "      <td>23.000000</td>\n",
       "    </tr>\n",
       "  </tbody>\n",
       "</table>\n",
       "</div>"
      ],
      "text/plain": [
       "                   columns  25% quantile  75% quantile\n",
       "0               Unit price     32.875000     77.935000\n",
       "1                 Quantity      3.000000      8.000000\n",
       "2                   Tax 5%      5.924875     22.445250\n",
       "3                    Total    124.422375    471.350250\n",
       "4                     cogs    118.497500    448.905000\n",
       "5  gross margin percentage      4.761905      4.761905\n",
       "6             gross income      5.924875     22.445250\n",
       "7                   Rating      5.500000      8.500000\n",
       "8                      day      8.000000     23.000000"
      ]
     },
     "execution_count": 27,
     "metadata": {},
     "output_type": "execute_result"
    }
   ],
   "source": [
    "box"
   ]
  },
  {
   "cell_type": "markdown",
   "id": "3bae2bd9-5ea2-4d6f-be46-e361430a14b0",
   "metadata": {},
   "source": [
    "# upper and lower fence  and iqr extract"
   ]
  },
  {
   "cell_type": "code",
   "execution_count": 28,
   "id": "24649987-bbd6-4300-b314-37cf347007d4",
   "metadata": {},
   "outputs": [
    {
     "data": {
      "text/html": [
       "<div>\n",
       "<style scoped>\n",
       "    .dataframe tbody tr th:only-of-type {\n",
       "        vertical-align: middle;\n",
       "    }\n",
       "\n",
       "    .dataframe tbody tr th {\n",
       "        vertical-align: top;\n",
       "    }\n",
       "\n",
       "    .dataframe thead th {\n",
       "        text-align: right;\n",
       "    }\n",
       "</style>\n",
       "<table border=\"1\" class=\"dataframe\">\n",
       "  <thead>\n",
       "    <tr style=\"text-align: right;\">\n",
       "      <th></th>\n",
       "      <th>columns</th>\n",
       "      <th>25% quantile</th>\n",
       "      <th>75% quantile</th>\n",
       "      <th>IQR</th>\n",
       "    </tr>\n",
       "  </thead>\n",
       "  <tbody>\n",
       "    <tr>\n",
       "      <th>0</th>\n",
       "      <td>Unit price</td>\n",
       "      <td>32.875000</td>\n",
       "      <td>77.935000</td>\n",
       "      <td>4.506000e+01</td>\n",
       "    </tr>\n",
       "    <tr>\n",
       "      <th>1</th>\n",
       "      <td>Quantity</td>\n",
       "      <td>3.000000</td>\n",
       "      <td>8.000000</td>\n",
       "      <td>5.000000e+00</td>\n",
       "    </tr>\n",
       "    <tr>\n",
       "      <th>2</th>\n",
       "      <td>Tax 5%</td>\n",
       "      <td>5.924875</td>\n",
       "      <td>22.445250</td>\n",
       "      <td>1.652038e+01</td>\n",
       "    </tr>\n",
       "    <tr>\n",
       "      <th>3</th>\n",
       "      <td>Total</td>\n",
       "      <td>124.422375</td>\n",
       "      <td>471.350250</td>\n",
       "      <td>3.469279e+02</td>\n",
       "    </tr>\n",
       "    <tr>\n",
       "      <th>4</th>\n",
       "      <td>cogs</td>\n",
       "      <td>118.497500</td>\n",
       "      <td>448.905000</td>\n",
       "      <td>3.304075e+02</td>\n",
       "    </tr>\n",
       "    <tr>\n",
       "      <th>5</th>\n",
       "      <td>gross margin percentage</td>\n",
       "      <td>4.761905</td>\n",
       "      <td>4.761905</td>\n",
       "      <td>8.881784e-16</td>\n",
       "    </tr>\n",
       "    <tr>\n",
       "      <th>6</th>\n",
       "      <td>gross income</td>\n",
       "      <td>5.924875</td>\n",
       "      <td>22.445250</td>\n",
       "      <td>1.652038e+01</td>\n",
       "    </tr>\n",
       "    <tr>\n",
       "      <th>7</th>\n",
       "      <td>Rating</td>\n",
       "      <td>5.500000</td>\n",
       "      <td>8.500000</td>\n",
       "      <td>3.000000e+00</td>\n",
       "    </tr>\n",
       "    <tr>\n",
       "      <th>8</th>\n",
       "      <td>day</td>\n",
       "      <td>8.000000</td>\n",
       "      <td>23.000000</td>\n",
       "      <td>1.500000e+01</td>\n",
       "    </tr>\n",
       "  </tbody>\n",
       "</table>\n",
       "</div>"
      ],
      "text/plain": [
       "                   columns  25% quantile  75% quantile           IQR\n",
       "0               Unit price     32.875000     77.935000  4.506000e+01\n",
       "1                 Quantity      3.000000      8.000000  5.000000e+00\n",
       "2                   Tax 5%      5.924875     22.445250  1.652038e+01\n",
       "3                    Total    124.422375    471.350250  3.469279e+02\n",
       "4                     cogs    118.497500    448.905000  3.304075e+02\n",
       "5  gross margin percentage      4.761905      4.761905  8.881784e-16\n",
       "6             gross income      5.924875     22.445250  1.652038e+01\n",
       "7                   Rating      5.500000      8.500000  3.000000e+00\n",
       "8                      day      8.000000     23.000000  1.500000e+01"
      ]
     },
     "execution_count": 28,
     "metadata": {},
     "output_type": "execute_result"
    }
   ],
   "source": [
    "box['IQR']=box['75% quantile']-box['25% quantile']\n",
    "box"
   ]
  },
  {
   "cell_type": "code",
   "execution_count": 29,
   "id": "c1d52412-49a3-4e03-ac49-e25d0a3b17e9",
   "metadata": {},
   "outputs": [],
   "source": [
    "\n",
    "box['upper_fence']=box['75% quantile']+1.5*box['IQR']\n",
    "\n",
    "box['lower_fence']=box['25% quantile']-1.5*box['IQR'] \n"
   ]
  },
  {
   "cell_type": "code",
   "execution_count": 30,
   "id": "1203a429-7405-4dc4-8b7a-b5538b8dafcd",
   "metadata": {},
   "outputs": [
    {
     "data": {
      "text/html": [
       "<div>\n",
       "<style scoped>\n",
       "    .dataframe tbody tr th:only-of-type {\n",
       "        vertical-align: middle;\n",
       "    }\n",
       "\n",
       "    .dataframe tbody tr th {\n",
       "        vertical-align: top;\n",
       "    }\n",
       "\n",
       "    .dataframe thead th {\n",
       "        text-align: right;\n",
       "    }\n",
       "</style>\n",
       "<table border=\"1\" class=\"dataframe\">\n",
       "  <thead>\n",
       "    <tr style=\"text-align: right;\">\n",
       "      <th></th>\n",
       "      <th>columns</th>\n",
       "      <th>25% quantile</th>\n",
       "      <th>75% quantile</th>\n",
       "      <th>IQR</th>\n",
       "      <th>upper_fence</th>\n",
       "      <th>lower_fence</th>\n",
       "    </tr>\n",
       "  </thead>\n",
       "  <tbody>\n",
       "    <tr>\n",
       "      <th>0</th>\n",
       "      <td>Unit price</td>\n",
       "      <td>32.875000</td>\n",
       "      <td>77.935000</td>\n",
       "      <td>4.506000e+01</td>\n",
       "      <td>145.525000</td>\n",
       "      <td>-34.715000</td>\n",
       "    </tr>\n",
       "    <tr>\n",
       "      <th>1</th>\n",
       "      <td>Quantity</td>\n",
       "      <td>3.000000</td>\n",
       "      <td>8.000000</td>\n",
       "      <td>5.000000e+00</td>\n",
       "      <td>15.500000</td>\n",
       "      <td>-4.500000</td>\n",
       "    </tr>\n",
       "    <tr>\n",
       "      <th>2</th>\n",
       "      <td>Tax 5%</td>\n",
       "      <td>5.924875</td>\n",
       "      <td>22.445250</td>\n",
       "      <td>1.652038e+01</td>\n",
       "      <td>47.225813</td>\n",
       "      <td>-18.855688</td>\n",
       "    </tr>\n",
       "    <tr>\n",
       "      <th>3</th>\n",
       "      <td>Total</td>\n",
       "      <td>124.422375</td>\n",
       "      <td>471.350250</td>\n",
       "      <td>3.469279e+02</td>\n",
       "      <td>991.742062</td>\n",
       "      <td>-395.969438</td>\n",
       "    </tr>\n",
       "    <tr>\n",
       "      <th>4</th>\n",
       "      <td>cogs</td>\n",
       "      <td>118.497500</td>\n",
       "      <td>448.905000</td>\n",
       "      <td>3.304075e+02</td>\n",
       "      <td>944.516250</td>\n",
       "      <td>-377.113750</td>\n",
       "    </tr>\n",
       "    <tr>\n",
       "      <th>5</th>\n",
       "      <td>gross margin percentage</td>\n",
       "      <td>4.761905</td>\n",
       "      <td>4.761905</td>\n",
       "      <td>8.881784e-16</td>\n",
       "      <td>4.761905</td>\n",
       "      <td>4.761905</td>\n",
       "    </tr>\n",
       "    <tr>\n",
       "      <th>6</th>\n",
       "      <td>gross income</td>\n",
       "      <td>5.924875</td>\n",
       "      <td>22.445250</td>\n",
       "      <td>1.652038e+01</td>\n",
       "      <td>47.225813</td>\n",
       "      <td>-18.855688</td>\n",
       "    </tr>\n",
       "    <tr>\n",
       "      <th>7</th>\n",
       "      <td>Rating</td>\n",
       "      <td>5.500000</td>\n",
       "      <td>8.500000</td>\n",
       "      <td>3.000000e+00</td>\n",
       "      <td>13.000000</td>\n",
       "      <td>1.000000</td>\n",
       "    </tr>\n",
       "    <tr>\n",
       "      <th>8</th>\n",
       "      <td>day</td>\n",
       "      <td>8.000000</td>\n",
       "      <td>23.000000</td>\n",
       "      <td>1.500000e+01</td>\n",
       "      <td>45.500000</td>\n",
       "      <td>-14.500000</td>\n",
       "    </tr>\n",
       "  </tbody>\n",
       "</table>\n",
       "</div>"
      ],
      "text/plain": [
       "                   columns  25% quantile  75% quantile           IQR  \\\n",
       "0               Unit price     32.875000     77.935000  4.506000e+01   \n",
       "1                 Quantity      3.000000      8.000000  5.000000e+00   \n",
       "2                   Tax 5%      5.924875     22.445250  1.652038e+01   \n",
       "3                    Total    124.422375    471.350250  3.469279e+02   \n",
       "4                     cogs    118.497500    448.905000  3.304075e+02   \n",
       "5  gross margin percentage      4.761905      4.761905  8.881784e-16   \n",
       "6             gross income      5.924875     22.445250  1.652038e+01   \n",
       "7                   Rating      5.500000      8.500000  3.000000e+00   \n",
       "8                      day      8.000000     23.000000  1.500000e+01   \n",
       "\n",
       "   upper_fence  lower_fence  \n",
       "0   145.525000   -34.715000  \n",
       "1    15.500000    -4.500000  \n",
       "2    47.225813   -18.855688  \n",
       "3   991.742062  -395.969438  \n",
       "4   944.516250  -377.113750  \n",
       "5     4.761905     4.761905  \n",
       "6    47.225813   -18.855688  \n",
       "7    13.000000     1.000000  \n",
       "8    45.500000   -14.500000  "
      ]
     },
     "execution_count": 30,
     "metadata": {},
     "output_type": "execute_result"
    }
   ],
   "source": [
    "box"
   ]
  },
  {
   "cell_type": "markdown",
   "id": "ba15ad4e",
   "metadata": {},
   "source": [
    "# Check correlation in numerical dataset  and visulization"
   ]
  },
  {
   "cell_type": "code",
   "execution_count": 31,
   "id": "ec72d978-b6dc-4038-a097-1c0e1d8b31be",
   "metadata": {},
   "outputs": [
    {
     "data": {
      "text/plain": [
       "<Axes: >"
      ]
     },
     "execution_count": 31,
     "metadata": {},
     "output_type": "execute_result"
    },
    {
     "data": {
      "image/png": "[encoded data removed]",
      "text/plain": [
       "<Figure size 640x480 with 2 Axes>"
      ]
     },
     "metadata": {},
     "output_type": "display_data"
    }
   ],
   "source": [
    "sns.heatmap(num.corr(),annot=True)"
   ]
  },
  {
   "cell_type": "code",
   "execution_count": 32,
   "id": "2c3e98b4-2f0b-4a11-9336-efae85d97692",
   "metadata": {},
   "outputs": [
    {
     "data": {
      "text/plain": [
       "<Axes: >"
      ]
     },
     "execution_count": 32,
     "metadata": {},
     "output_type": "execute_result"
    },
    {
     "data": {
      "image/png": "[encoded data removed]",
      "text/plain": [
       "<Figure size 640x480 with 1 Axes>"
      ]
     },
     "metadata": {},
     "output_type": "display_data"
    }
   ],
   "source": [
    "sns.boxplot(box)"
   ]
  },
  {
   "cell_type": "code",
   "execution_count": 33,
   "id": "eb580fa1-f451-498d-bf3d-4afb1f620ed8",
   "metadata": {},
   "outputs": [
    {
     "data": {
      "text/plain": [
       "(1000, 18)"
      ]
     },
     "execution_count": 33,
     "metadata": {},
     "output_type": "execute_result"
    }
   ],
   "source": [
    "df.shape"
   ]
  },
  {
   "cell_type": "code",
   "execution_count": 34,
   "id": "e43c007d-141e-4e46-a628-a7bfe4f5bf94",
   "metadata": {},
   "outputs": [
    {
     "data": {
      "text/plain": [
       "0"
      ]
     },
     "execution_count": 34,
     "metadata": {},
     "output_type": "execute_result"
    }
   ],
   "source": [
    "num.duplicated().sum()"
   ]
  },
  {
   "cell_type": "code",
   "execution_count": 35,
   "id": "ae0af8a9-d595-4512-baa0-d42363d8ceb0",
   "metadata": {},
   "outputs": [
    {
     "data": {
      "text/plain": [
       "Unit price                 0\n",
       "Quantity                   0\n",
       "Tax 5%                     0\n",
       "Total                      0\n",
       "cogs                       0\n",
       "gross margin percentage    0\n",
       "gross income               0\n",
       "Rating                     0\n",
       "day                        0\n",
       "dtype: int64"
      ]
     },
     "execution_count": 35,
     "metadata": {},
     "output_type": "execute_result"
    }
   ],
   "source": [
    "num.isnull().sum()"
   ]
  },
  {
   "cell_type": "markdown",
   "id": "d2ddbb86",
   "metadata": {},
   "source": [
    "# outlier removal with the help of IQR methods"
   ]
  },
  {
   "cell_type": "code",
   "execution_count": 36,
   "id": "f1a251b2-9708-4da9-84a8-7eaae4128cad",
   "metadata": {},
   "outputs": [],
   "source": [
    "df1=df.copy()\n",
    "for i in df.columns:\n",
    "    \n",
    "    if df[i].dtypes!='object':\n",
    "        q1=df[i].quantile(0.25)\n",
    "        q3=df[i].quantile(0.75)\n",
    "        iqr=q3-q1\n",
    "        lower_fence=q1-1.5*iqr\n",
    "        upper_fence=q3+1.5*iqr\n",
    "        df1=df1[(df1[i]>=lower_fence) & (df1[i]<=upper_fence)]"
   ]
  },
  {
   "cell_type": "code",
   "execution_count": 37,
   "id": "06e4aef4-5b98-4116-8fd9-d8286044f292",
   "metadata": {},
   "outputs": [
    {
     "data": {
      "text/html": [
       "<div>\n",
       "<style scoped>\n",
       "    .dataframe tbody tr th:only-of-type {\n",
       "        vertical-align: middle;\n",
       "    }\n",
       "\n",
       "    .dataframe tbody tr th {\n",
       "        vertical-align: top;\n",
       "    }\n",
       "\n",
       "    .dataframe thead th {\n",
       "        text-align: right;\n",
       "    }\n",
       "</style>\n",
       "<table border=\"1\" class=\"dataframe\">\n",
       "  <thead>\n",
       "    <tr style=\"text-align: right;\">\n",
       "      <th></th>\n",
       "      <th>Invoice ID</th>\n",
       "      <th>Branch</th>\n",
       "      <th>City</th>\n",
       "      <th>Customer type</th>\n",
       "      <th>Gender</th>\n",
       "      <th>Product line</th>\n",
       "      <th>Unit price</th>\n",
       "      <th>Quantity</th>\n",
       "      <th>Tax 5%</th>\n",
       "      <th>Total</th>\n",
       "      <th>Date</th>\n",
       "      <th>Time</th>\n",
       "      <th>Payment</th>\n",
       "      <th>cogs</th>\n",
       "      <th>gross margin percentage</th>\n",
       "      <th>gross income</th>\n",
       "      <th>Rating</th>\n",
       "      <th>day</th>\n",
       "    </tr>\n",
       "  </thead>\n",
       "  <tbody>\n",
       "    <tr>\n",
       "      <th>0</th>\n",
       "      <td>750-67-8428</td>\n",
       "      <td>A</td>\n",
       "      <td>Yangon</td>\n",
       "      <td>Member</td>\n",
       "      <td>Female</td>\n",
       "      <td>Health and beauty</td>\n",
       "      <td>74.69</td>\n",
       "      <td>7</td>\n",
       "      <td>26.1415</td>\n",
       "      <td>548.9715</td>\n",
       "      <td>2019-01-05</td>\n",
       "      <td>13:08:00</td>\n",
       "      <td>Ewallet</td>\n",
       "      <td>522.83</td>\n",
       "      <td>4.761905</td>\n",
       "      <td>26.1415</td>\n",
       "      <td>9.1</td>\n",
       "      <td>5</td>\n",
       "    </tr>\n",
       "    <tr>\n",
       "      <th>1</th>\n",
       "      <td>226-31-3081</td>\n",
       "      <td>C</td>\n",
       "      <td>Naypyitaw</td>\n",
       "      <td>Normal</td>\n",
       "      <td>Female</td>\n",
       "      <td>Electronic accessories</td>\n",
       "      <td>15.28</td>\n",
       "      <td>5</td>\n",
       "      <td>3.8200</td>\n",
       "      <td>80.2200</td>\n",
       "      <td>2019-03-08</td>\n",
       "      <td>10:29:00</td>\n",
       "      <td>Cash</td>\n",
       "      <td>76.40</td>\n",
       "      <td>4.761905</td>\n",
       "      <td>3.8200</td>\n",
       "      <td>9.6</td>\n",
       "      <td>8</td>\n",
       "    </tr>\n",
       "    <tr>\n",
       "      <th>2</th>\n",
       "      <td>631-41-3108</td>\n",
       "      <td>A</td>\n",
       "      <td>Yangon</td>\n",
       "      <td>Normal</td>\n",
       "      <td>Male</td>\n",
       "      <td>Home and lifestyle</td>\n",
       "      <td>46.33</td>\n",
       "      <td>7</td>\n",
       "      <td>16.2155</td>\n",
       "      <td>340.5255</td>\n",
       "      <td>2019-03-03</td>\n",
       "      <td>13:23:00</td>\n",
       "      <td>Credit card</td>\n",
       "      <td>324.31</td>\n",
       "      <td>4.761905</td>\n",
       "      <td>16.2155</td>\n",
       "      <td>7.4</td>\n",
       "      <td>3</td>\n",
       "    </tr>\n",
       "    <tr>\n",
       "      <th>3</th>\n",
       "      <td>123-19-1176</td>\n",
       "      <td>A</td>\n",
       "      <td>Yangon</td>\n",
       "      <td>Member</td>\n",
       "      <td>Male</td>\n",
       "      <td>Health and beauty</td>\n",
       "      <td>58.22</td>\n",
       "      <td>8</td>\n",
       "      <td>23.2880</td>\n",
       "      <td>489.0480</td>\n",
       "      <td>2019-01-27</td>\n",
       "      <td>20:33:00</td>\n",
       "      <td>Ewallet</td>\n",
       "      <td>465.76</td>\n",
       "      <td>4.761905</td>\n",
       "      <td>23.2880</td>\n",
       "      <td>8.4</td>\n",
       "      <td>27</td>\n",
       "    </tr>\n",
       "    <tr>\n",
       "      <th>4</th>\n",
       "      <td>373-73-7910</td>\n",
       "      <td>A</td>\n",
       "      <td>Yangon</td>\n",
       "      <td>Normal</td>\n",
       "      <td>Male</td>\n",
       "      <td>Sports and travel</td>\n",
       "      <td>86.31</td>\n",
       "      <td>7</td>\n",
       "      <td>30.2085</td>\n",
       "      <td>634.3785</td>\n",
       "      <td>2019-02-08</td>\n",
       "      <td>10:37:00</td>\n",
       "      <td>Ewallet</td>\n",
       "      <td>604.17</td>\n",
       "      <td>4.761905</td>\n",
       "      <td>30.2085</td>\n",
       "      <td>5.3</td>\n",
       "      <td>8</td>\n",
       "    </tr>\n",
       "  </tbody>\n",
       "</table>\n",
       "</div>"
      ],
      "text/plain": [
       "    Invoice ID Branch       City Customer type  Gender  \\\n",
       "0  750-67-8428      A     Yangon        Member  Female   \n",
       "1  226-31-3081      C  Naypyitaw        Normal  Female   \n",
       "2  631-41-3108      A     Yangon        Normal    Male   \n",
       "3  123-19-1176      A     Yangon        Member    Male   \n",
       "4  373-73-7910      A     Yangon        Normal    Male   \n",
       "\n",
       "             Product line  Unit price  Quantity   Tax 5%     Total  \\\n",
       "0       Health and beauty       74.69         7  26.1415  548.9715   \n",
       "1  Electronic accessories       15.28         5   3.8200   80.2200   \n",
       "2      Home and lifestyle       46.33         7  16.2155  340.5255   \n",
       "3       Health and beauty       58.22         8  23.2880  489.0480   \n",
       "4       Sports and travel       86.31         7  30.2085  634.3785   \n",
       "\n",
       "         Date      Time      Payment    cogs  gross margin percentage  \\\n",
       "0  2019-01-05  13:08:00      Ewallet  522.83                 4.761905   \n",
       "1  2019-03-08  10:29:00         Cash   76.40                 4.761905   \n",
       "2  2019-03-03  13:23:00  Credit card  324.31                 4.761905   \n",
       "3  2019-01-27  20:33:00      Ewallet  465.76                 4.761905   \n",
       "4  2019-02-08  10:37:00      Ewallet  604.17                 4.761905   \n",
       "\n",
       "   gross income  Rating  day  \n",
       "0       26.1415     9.1    5  \n",
       "1        3.8200     9.6    8  \n",
       "2       16.2155     7.4    3  \n",
       "3       23.2880     8.4   27  \n",
       "4       30.2085     5.3    8  "
      ]
     },
     "execution_count": 37,
     "metadata": {},
     "output_type": "execute_result"
    }
   ],
   "source": [
    "df1.head()"
   ]
  },
  {
   "cell_type": "code",
   "execution_count": 38,
   "id": "65948833-ba49-4b21-b7ce-63e223001cfb",
   "metadata": {},
   "outputs": [
    {
     "data": {
      "text/plain": [
       "(1000, 18)"
      ]
     },
     "execution_count": 38,
     "metadata": {},
     "output_type": "execute_result"
    }
   ],
   "source": [
    "df.shape"
   ]
  },
  {
   "cell_type": "code",
   "execution_count": 39,
   "id": "53656363-c0f1-429a-a64a-c0b0eff3304f",
   "metadata": {},
   "outputs": [
    {
     "data": {
      "text/plain": [
       "(991, 18)"
      ]
     },
     "execution_count": 39,
     "metadata": {},
     "output_type": "execute_result"
    }
   ],
   "source": [
    "df1.shape"
   ]
  },
  {
   "cell_type": "markdown",
   "id": "d131b2cb",
   "metadata": {},
   "source": [
    "# the result after outlier clean"
   ]
  },
  {
   "cell_type": "code",
   "execution_count": 40,
   "id": "f145363f-0a43-41dc-93b6-783f8e038d6a",
   "metadata": {},
   "outputs": [
    {
     "data": {
      "text/plain": [
       "0.991"
      ]
     },
     "execution_count": 40,
     "metadata": {},
     "output_type": "execute_result"
    }
   ],
   "source": [
    "df1.shape[0]/df.shape[0]"
   ]
  },
  {
   "cell_type": "code",
   "execution_count": 41,
   "id": "5d507afa-4d90-460d-9ff2-dcfb9d158025",
   "metadata": {},
   "outputs": [
    {
     "data": {
      "text/plain": [
       "<Axes: >"
      ]
     },
     "execution_count": 41,
     "metadata": {},
     "output_type": "execute_result"
    },
    {
     "data": {
      "image/png": "[encoded data removed]",
      "text/plain": [
       "<Figure size 640x480 with 1 Axes>"
      ]
     },
     "metadata": {},
     "output_type": "display_data"
    }
   ],
   "source": [
    "sns.boxplot(df1)"
   ]
  },
  {
   "cell_type": "markdown",
   "id": "903096c5-7d84-4d77-8967-ef26cf58daaf",
   "metadata": {},
   "source": [
    "# Sum of Sales By branch"
   ]
  },
  {
   "cell_type": "code",
   "execution_count": 42,
   "id": "d646beee-6d7d-434f-8f79-890111aba44a",
   "metadata": {},
   "outputs": [
    {
     "data": {
      "text/plain": [
       "array(['A', 'C', 'B'], dtype=object)"
      ]
     },
     "execution_count": 42,
     "metadata": {},
     "output_type": "execute_result"
    }
   ],
   "source": [
    "df1['Branch'].unique()"
   ]
  },
  {
   "cell_type": "code",
   "execution_count": 43,
   "id": "752b06df-182f-4545-8eac-d5b58d6a51ca",
   "metadata": {},
   "outputs": [
    {
     "data": {
      "text/html": [
       "<div>\n",
       "<style scoped>\n",
       "    .dataframe tbody tr th:only-of-type {\n",
       "        vertical-align: middle;\n",
       "    }\n",
       "\n",
       "    .dataframe tbody tr th {\n",
       "        vertical-align: top;\n",
       "    }\n",
       "\n",
       "    .dataframe thead th {\n",
       "        text-align: right;\n",
       "    }\n",
       "</style>\n",
       "<table border=\"1\" class=\"dataframe\">\n",
       "  <thead>\n",
       "    <tr style=\"text-align: right;\">\n",
       "      <th></th>\n",
       "      <th>Total</th>\n",
       "    </tr>\n",
       "    <tr>\n",
       "      <th>Branch</th>\n",
       "      <th></th>\n",
       "    </tr>\n",
       "  </thead>\n",
       "  <tbody>\n",
       "    <tr>\n",
       "      <th>A</th>\n",
       "      <td>105161.0805</td>\n",
       "    </tr>\n",
       "    <tr>\n",
       "      <th>B</th>\n",
       "      <td>104152.7970</td>\n",
       "    </tr>\n",
       "    <tr>\n",
       "      <th>C</th>\n",
       "      <td>104441.4315</td>\n",
       "    </tr>\n",
       "  </tbody>\n",
       "</table>\n",
       "</div>"
      ],
      "text/plain": [
       "              Total\n",
       "Branch             \n",
       "A       105161.0805\n",
       "B       104152.7970\n",
       "C       104441.4315"
      ]
     },
     "execution_count": 43,
     "metadata": {},
     "output_type": "execute_result"
    }
   ],
   "source": [
    "branch=df1.groupby('Branch').agg({'Total':'sum'})\n",
    "branch"
   ]
  },
  {
   "cell_type": "code",
   "execution_count": 44,
   "id": "4a5b92dd-c51a-4abc-8921-7d261278c7ae",
   "metadata": {},
   "outputs": [
    {
     "data": {
      "text/plain": [
       "Index(['Invoice ID', 'Branch', 'City', 'Customer type', 'Gender',\n",
       "       'Product line', 'Unit price', 'Quantity', 'Tax 5%', 'Total', 'Date',\n",
       "       'Time', 'Payment', 'cogs', 'gross margin percentage', 'gross income',\n",
       "       'Rating', 'day'],\n",
       "      dtype='object')"
      ]
     },
     "execution_count": 44,
     "metadata": {},
     "output_type": "execute_result"
    }
   ],
   "source": [
    "df1.columns"
   ]
  },
  {
   "cell_type": "markdown",
   "id": "c586fda5-4128-44cd-8c0d-5a24ea65d4f7",
   "metadata": {},
   "source": [
    "# Average Quantity by Coustomer type "
   ]
  },
  {
   "cell_type": "code",
   "execution_count": 45,
   "id": "9e40d9ac-9a41-4363-9bfb-b77432811e43",
   "metadata": {},
   "outputs": [
    {
     "data": {
      "text/html": [
       "<div>\n",
       "<style scoped>\n",
       "    .dataframe tbody tr th:only-of-type {\n",
       "        vertical-align: middle;\n",
       "    }\n",
       "\n",
       "    .dataframe tbody tr th {\n",
       "        vertical-align: top;\n",
       "    }\n",
       "\n",
       "    .dataframe thead th {\n",
       "        text-align: right;\n",
       "    }\n",
       "</style>\n",
       "<table border=\"1\" class=\"dataframe\">\n",
       "  <thead>\n",
       "    <tr style=\"text-align: right;\">\n",
       "      <th></th>\n",
       "      <th>Quantity</th>\n",
       "    </tr>\n",
       "    <tr>\n",
       "      <th>Customer type</th>\n",
       "      <th></th>\n",
       "    </tr>\n",
       "  </thead>\n",
       "  <tbody>\n",
       "    <tr>\n",
       "      <th>Member</th>\n",
       "      <td>5.532129</td>\n",
       "    </tr>\n",
       "    <tr>\n",
       "      <th>Normal</th>\n",
       "      <td>5.405680</td>\n",
       "    </tr>\n",
       "  </tbody>\n",
       "</table>\n",
       "</div>"
      ],
      "text/plain": [
       "               Quantity\n",
       "Customer type          \n",
       "Member         5.532129\n",
       "Normal         5.405680"
      ]
     },
     "execution_count": 45,
     "metadata": {},
     "output_type": "execute_result"
    }
   ],
   "source": [
    "cs_type=df1.groupby('Customer type').agg({'Quantity':'mean'})\n",
    "cs_type"
   ]
  },
  {
   "cell_type": "code",
   "execution_count": 46,
   "id": "6e5e1559-f8f7-42dd-8cd0-d6025b5f4840",
   "metadata": {},
   "outputs": [
    {
     "data": {
      "text/html": [
       "<div>\n",
       "<style scoped>\n",
       "    .dataframe tbody tr th:only-of-type {\n",
       "        vertical-align: middle;\n",
       "    }\n",
       "\n",
       "    .dataframe tbody tr th {\n",
       "        vertical-align: top;\n",
       "    }\n",
       "\n",
       "    .dataframe thead th {\n",
       "        text-align: right;\n",
       "    }\n",
       "</style>\n",
       "<table border=\"1\" class=\"dataframe\">\n",
       "  <thead>\n",
       "    <tr style=\"text-align: right;\">\n",
       "      <th></th>\n",
       "      <th>Quantity</th>\n",
       "    </tr>\n",
       "    <tr>\n",
       "      <th>Customer type</th>\n",
       "      <th></th>\n",
       "    </tr>\n",
       "  </thead>\n",
       "  <tbody>\n",
       "    <tr>\n",
       "      <th>Member</th>\n",
       "      <td>10</td>\n",
       "    </tr>\n",
       "    <tr>\n",
       "      <th>Normal</th>\n",
       "      <td>10</td>\n",
       "    </tr>\n",
       "  </tbody>\n",
       "</table>\n",
       "</div>"
      ],
      "text/plain": [
       "               Quantity\n",
       "Customer type          \n",
       "Member               10\n",
       "Normal               10"
      ]
     },
     "execution_count": 46,
     "metadata": {},
     "output_type": "execute_result"
    }
   ],
   "source": [
    "cs_type_max=df1.groupby('Customer type').agg({'Quantity':'max'})\n",
    "cs_type_max"
   ]
  },
  {
   "cell_type": "markdown",
   "id": "d8df9188-db0f-404a-8701-9c64d1fe0eaa",
   "metadata": {},
   "source": [
    "# total sales by city"
   ]
  },
  {
   "cell_type": "code",
   "execution_count": 47,
   "id": "1ac4a8bb-d0b4-421c-aad8-423f692ce967",
   "metadata": {},
   "outputs": [
    {
     "data": {
      "text/html": [
       "<div>\n",
       "<style scoped>\n",
       "    .dataframe tbody tr th:only-of-type {\n",
       "        vertical-align: middle;\n",
       "    }\n",
       "\n",
       "    .dataframe tbody tr th {\n",
       "        vertical-align: top;\n",
       "    }\n",
       "\n",
       "    .dataframe thead th {\n",
       "        text-align: right;\n",
       "    }\n",
       "</style>\n",
       "<table border=\"1\" class=\"dataframe\">\n",
       "  <thead>\n",
       "    <tr style=\"text-align: right;\">\n",
       "      <th></th>\n",
       "      <th>Total</th>\n",
       "    </tr>\n",
       "    <tr>\n",
       "      <th>City</th>\n",
       "      <th></th>\n",
       "    </tr>\n",
       "  </thead>\n",
       "  <tbody>\n",
       "    <tr>\n",
       "      <th>Mandalay</th>\n",
       "      <td>104152.7970</td>\n",
       "    </tr>\n",
       "    <tr>\n",
       "      <th>Naypyitaw</th>\n",
       "      <td>104441.4315</td>\n",
       "    </tr>\n",
       "    <tr>\n",
       "      <th>Yangon</th>\n",
       "      <td>105161.0805</td>\n",
       "    </tr>\n",
       "  </tbody>\n",
       "</table>\n",
       "</div>"
      ],
      "text/plain": [
       "                 Total\n",
       "City                  \n",
       "Mandalay   104152.7970\n",
       "Naypyitaw  104441.4315\n",
       "Yangon     105161.0805"
      ]
     },
     "execution_count": 47,
     "metadata": {},
     "output_type": "execute_result"
    }
   ],
   "source": [
    "city=df1.groupby('City').agg({'Total':'sum'})\n",
    "city"
   ]
  },
  {
   "cell_type": "code",
   "execution_count": 48,
   "id": "5f6ef2e3-cded-4826-a2ab-0a2c03dca97b",
   "metadata": {},
   "outputs": [
    {
     "data": {
      "text/plain": [
       "<Axes: xlabel='City', ylabel='Total'>"
      ]
     },
     "execution_count": 48,
     "metadata": {},
     "output_type": "execute_result"
    },
    {
     "data": {
      "image/png": "[encoded data removed]",
      "text/plain": [
       "<Figure size 640x480 with 1 Axes>"
      ]
     },
     "metadata": {},
     "output_type": "display_data"
    }
   ],
   "source": [
    "sns.barplot(x=df1.City,y=df1.Total)"
   ]
  },
  {
   "cell_type": "markdown",
   "id": "dbccf72a-3681-49d7-adae-0054043cd30b",
   "metadata": {},
   "source": [
    "# product v/s quantity"
   ]
  },
  {
   "cell_type": "code",
   "execution_count": 49,
   "id": "0b2ef7f5-8848-4798-bd98-4c240451c4d6",
   "metadata": {},
   "outputs": [
    {
     "data": {
      "text/html": [
       "<div>\n",
       "<style scoped>\n",
       "    .dataframe tbody tr th:only-of-type {\n",
       "        vertical-align: middle;\n",
       "    }\n",
       "\n",
       "    .dataframe tbody tr th {\n",
       "        vertical-align: top;\n",
       "    }\n",
       "\n",
       "    .dataframe thead th {\n",
       "        text-align: right;\n",
       "    }\n",
       "</style>\n",
       "<table border=\"1\" class=\"dataframe\">\n",
       "  <thead>\n",
       "    <tr style=\"text-align: right;\">\n",
       "      <th></th>\n",
       "      <th>Quantity</th>\n",
       "    </tr>\n",
       "    <tr>\n",
       "      <th>Product line</th>\n",
       "      <th></th>\n",
       "    </tr>\n",
       "  </thead>\n",
       "  <tbody>\n",
       "    <tr>\n",
       "      <th>Electronic accessories</th>\n",
       "      <td>971</td>\n",
       "    </tr>\n",
       "    <tr>\n",
       "      <th>Fashion accessories</th>\n",
       "      <td>872</td>\n",
       "    </tr>\n",
       "    <tr>\n",
       "      <th>Food and beverages</th>\n",
       "      <td>942</td>\n",
       "    </tr>\n",
       "    <tr>\n",
       "      <th>Health and beauty</th>\n",
       "      <td>854</td>\n",
       "    </tr>\n",
       "    <tr>\n",
       "      <th>Home and lifestyle</th>\n",
       "      <td>871</td>\n",
       "    </tr>\n",
       "    <tr>\n",
       "      <th>Sports and travel</th>\n",
       "      <td>910</td>\n",
       "    </tr>\n",
       "  </tbody>\n",
       "</table>\n",
       "</div>"
      ],
      "text/plain": [
       "                        Quantity\n",
       "Product line                    \n",
       "Electronic accessories       971\n",
       "Fashion accessories          872\n",
       "Food and beverages           942\n",
       "Health and beauty            854\n",
       "Home and lifestyle           871\n",
       "Sports and travel            910"
      ]
     },
     "execution_count": 49,
     "metadata": {},
     "output_type": "execute_result"
    }
   ],
   "source": [
    "product=df1.groupby('Product line').agg({'Quantity':'sum'})\n",
    "product"
   ]
  },
  {
   "cell_type": "code",
   "execution_count": 50,
   "id": "e422dff3-791d-4546-b4e6-be66861b0694",
   "metadata": {},
   "outputs": [
    {
     "data": {
      "text/plain": [
       "Quantity    903.333333\n",
       "dtype: float64"
      ]
     },
     "execution_count": 50,
     "metadata": {},
     "output_type": "execute_result"
    }
   ],
   "source": [
    "product.mean()"
   ]
  },
  {
   "cell_type": "code",
   "execution_count": 51,
   "id": "64951c1d-20e7-451c-9402-7afb235705f8",
   "metadata": {},
   "outputs": [
    {
     "data": {
      "text/html": [
       "<div>\n",
       "<style scoped>\n",
       "    .dataframe tbody tr th:only-of-type {\n",
       "        vertical-align: middle;\n",
       "    }\n",
       "\n",
       "    .dataframe tbody tr th {\n",
       "        vertical-align: top;\n",
       "    }\n",
       "\n",
       "    .dataframe thead th {\n",
       "        text-align: right;\n",
       "    }\n",
       "</style>\n",
       "<table border=\"1\" class=\"dataframe\">\n",
       "  <thead>\n",
       "    <tr style=\"text-align: right;\">\n",
       "      <th></th>\n",
       "      <th>count</th>\n",
       "      <th>mean</th>\n",
       "      <th>std</th>\n",
       "      <th>min</th>\n",
       "      <th>25%</th>\n",
       "      <th>50%</th>\n",
       "      <th>75%</th>\n",
       "      <th>max</th>\n",
       "    </tr>\n",
       "  </thead>\n",
       "  <tbody>\n",
       "    <tr>\n",
       "      <th>Quantity</th>\n",
       "      <td>6.0</td>\n",
       "      <td>903.333333</td>\n",
       "      <td>45.998551</td>\n",
       "      <td>854.0</td>\n",
       "      <td>871.25</td>\n",
       "      <td>891.0</td>\n",
       "      <td>934.0</td>\n",
       "      <td>971.0</td>\n",
       "    </tr>\n",
       "  </tbody>\n",
       "</table>\n",
       "</div>"
      ],
      "text/plain": [
       "          count        mean        std    min     25%    50%    75%    max\n",
       "Quantity    6.0  903.333333  45.998551  854.0  871.25  891.0  934.0  971.0"
      ]
     },
     "execution_count": 51,
     "metadata": {},
     "output_type": "execute_result"
    }
   ],
   "source": [
    "product.describe().T"
   ]
  },
  {
   "cell_type": "markdown",
   "id": "a6183b22-71f4-44b6-b32d-7700908806f7",
   "metadata": {},
   "source": [
    "# sum of all product"
   ]
  },
  {
   "cell_type": "code",
   "execution_count": 52,
   "id": "9a4ca9e8-3fcb-4ff4-b28d-a0d61af56ae6",
   "metadata": {},
   "outputs": [
    {
     "data": {
      "text/plain": [
       "Product line\n",
       "Fashion accessories       175\n",
       "Food and beverages        173\n",
       "Electronic accessories    170\n",
       "Sports and travel         165\n",
       "Home and lifestyle        156\n",
       "Health and beauty         152\n",
       "Name: count, dtype: int64"
      ]
     },
     "execution_count": 52,
     "metadata": {},
     "output_type": "execute_result"
    }
   ],
   "source": [
    "\n",
    "df1['Product line'].value_counts()"
   ]
  },
  {
   "cell_type": "markdown",
   "id": "3b712321-e79d-4129-a81d-bdade005f703",
   "metadata": {},
   "source": [
    "# Each Coustomer type total sales record"
   ]
  },
  {
   "cell_type": "code",
   "execution_count": 53,
   "id": "842e4c08-516d-4e7f-a97a-fcdfbb3b795b",
   "metadata": {},
   "outputs": [
    {
     "data": {
      "text/plain": [
       "Customer type\n",
       "Member    498\n",
       "Normal    493\n",
       "Name: count, dtype: int64"
      ]
     },
     "execution_count": 53,
     "metadata": {},
     "output_type": "execute_result"
    }
   ],
   "source": [
    "df1['Customer type'].value_counts() \n"
   ]
  },
  {
   "cell_type": "markdown",
   "id": "afcaf705-64c8-4fed-b025-e239340c1e5c",
   "metadata": {},
   "source": [
    "# Visualyzing the total amount by invoice"
   ]
  },
  {
   "cell_type": "code",
   "execution_count": 54,
   "id": "cd5212a7-ea95-4394-b49b-f00176afd366",
   "metadata": {},
   "outputs": [
    {
     "data": {
      "image/png": "[encoded data removed]",
      "text/plain": [
       "<Figure size 640x480 with 1 Axes>"
      ]
     },
     "metadata": {},
     "output_type": "display_data"
    }
   ],
   "source": [
    "plt.hist(df1['Total'], bins=10)\n",
    "plt.title('Distribution of Total Invoice Amount')\n",
    "plt.xlabel('Total')\n",
    "plt.ylabel('Frequency')\n",
    "plt.show() "
   ]
  },
  {
   "cell_type": "markdown",
   "id": "1db6a074-02de-4a70-9a8a-45012dbcc84b",
   "metadata": {},
   "source": [
    "# Total Invoice amount by coustomer type"
   ]
  },
  {
   "cell_type": "code",
   "execution_count": 55,
   "id": "2c081ad1-3327-4ad5-8b05-e9a804d46073",
   "metadata": {},
   "outputs": [
    {
     "data": {
      "text/html": [
       "<div>\n",
       "<style scoped>\n",
       "    .dataframe tbody tr th:only-of-type {\n",
       "        vertical-align: middle;\n",
       "    }\n",
       "\n",
       "    .dataframe tbody tr th {\n",
       "        vertical-align: top;\n",
       "    }\n",
       "\n",
       "    .dataframe thead th {\n",
       "        text-align: right;\n",
       "    }\n",
       "</style>\n",
       "<table border=\"1\" class=\"dataframe\">\n",
       "  <thead>\n",
       "    <tr style=\"text-align: right;\">\n",
       "      <th></th>\n",
       "      <th>Total</th>\n",
       "    </tr>\n",
       "    <tr>\n",
       "      <th>Customer type</th>\n",
       "      <th></th>\n",
       "    </tr>\n",
       "  </thead>\n",
       "  <tbody>\n",
       "    <tr>\n",
       "      <th>Member</th>\n",
       "      <td>161125.629</td>\n",
       "    </tr>\n",
       "    <tr>\n",
       "      <th>Normal</th>\n",
       "      <td>152629.680</td>\n",
       "    </tr>\n",
       "  </tbody>\n",
       "</table>\n",
       "</div>"
      ],
      "text/plain": [
       "                    Total\n",
       "Customer type            \n",
       "Member         161125.629\n",
       "Normal         152629.680"
      ]
     },
     "execution_count": 55,
     "metadata": {},
     "output_type": "execute_result"
    }
   ],
   "source": [
    "df1.groupby('Customer type').agg({'Total':'sum'})"
   ]
  },
  {
   "cell_type": "code",
   "execution_count": 56,
   "id": "ce226b44-6997-4bc5-8b47-5e365bb9c6e6",
   "metadata": {},
   "outputs": [
    {
     "data": {
      "image/png": "[encoded data removed]",
      "text/plain": [
       "<Figure size 640x480 with 1 Axes>"
      ]
     },
     "metadata": {},
     "output_type": "display_data"
    }
   ],
   "source": [
    "sns.boxplot(x='Customer type', y='Total', data=df1)\n",
    "plt.title('Total Invoice Amount by Customer Type')\n",
    "plt.show()"
   ]
  },
  {
   "cell_type": "markdown",
   "id": "2f538037-ebe8-4623-9b85-8b29b0b20f14",
   "metadata": {},
   "source": [
    "# count of invoice by product"
   ]
  },
  {
   "cell_type": "code",
   "execution_count": 57,
   "id": "bbc26d52-368c-4458-aefa-38e48b458d2b",
   "metadata": {},
   "outputs": [
    {
     "data": {
      "text/plain": [
       "Product line\n",
       "Fashion accessories       175\n",
       "Food and beverages        173\n",
       "Electronic accessories    170\n",
       "Sports and travel         165\n",
       "Home and lifestyle        156\n",
       "Health and beauty         152\n",
       "Name: count, dtype: int64"
      ]
     },
     "execution_count": 57,
     "metadata": {},
     "output_type": "execute_result"
    }
   ],
   "source": [
    "df1['Product line'].value_counts()"
   ]
  },
  {
   "cell_type": "code",
   "execution_count": 58,
   "id": "99c1a611-9586-4bb8-8b21-0bf7423d1981",
   "metadata": {},
   "outputs": [
    {
     "data": {
      "image/png": "[encoded data removed]",
      "text/plain": [
       "<Figure size 640x480 with 1 Axes>"
      ]
     },
     "metadata": {},
     "output_type": "display_data"
    }
   ],
   "source": [
    "df1['Product line'].value_counts().plot(kind='bar')\n",
    "plt.title('Count of Invoices by Product Line')\n",
    "plt.xlabel('Product Line')\n",
    "plt.ylabel('Count')\n",
    "plt.show()"
   ]
  },
  {
   "cell_type": "markdown",
   "id": "79eee113-1bdd-44b7-9091-b7acd467fad8",
   "metadata": {},
   "source": [
    "# Product line and unit price group by acording to quantity"
   ]
  },
  {
   "cell_type": "code",
   "execution_count": 59,
   "id": "18158aab-7cbc-4ffc-9bcb-fbc24c704d36",
   "metadata": {},
   "outputs": [
    {
     "data": {
      "text/html": [
       "<div>\n",
       "<style scoped>\n",
       "    .dataframe tbody tr th:only-of-type {\n",
       "        vertical-align: middle;\n",
       "    }\n",
       "\n",
       "    .dataframe tbody tr th {\n",
       "        vertical-align: top;\n",
       "    }\n",
       "\n",
       "    .dataframe thead th {\n",
       "        text-align: right;\n",
       "    }\n",
       "</style>\n",
       "<table border=\"1\" class=\"dataframe\">\n",
       "  <thead>\n",
       "    <tr style=\"text-align: right;\">\n",
       "      <th></th>\n",
       "      <th>Unit price</th>\n",
       "      <th>Quantity</th>\n",
       "    </tr>\n",
       "    <tr>\n",
       "      <th>Product line</th>\n",
       "      <th></th>\n",
       "      <th></th>\n",
       "    </tr>\n",
       "  </thead>\n",
       "  <tbody>\n",
       "    <tr>\n",
       "      <th>Electronic accessories</th>\n",
       "      <td>9103.77</td>\n",
       "      <td>971</td>\n",
       "    </tr>\n",
       "    <tr>\n",
       "      <th>Fashion accessories</th>\n",
       "      <td>9877.86</td>\n",
       "      <td>872</td>\n",
       "    </tr>\n",
       "    <tr>\n",
       "      <th>Food and beverages</th>\n",
       "      <td>9647.02</td>\n",
       "      <td>942</td>\n",
       "    </tr>\n",
       "    <tr>\n",
       "      <th>Health and beauty</th>\n",
       "      <td>8337.88</td>\n",
       "      <td>854</td>\n",
       "    </tr>\n",
       "    <tr>\n",
       "      <th>Home and lifestyle</th>\n",
       "      <td>8462.88</td>\n",
       "      <td>871</td>\n",
       "    </tr>\n",
       "    <tr>\n",
       "      <th>Sports and travel</th>\n",
       "      <td>9365.44</td>\n",
       "      <td>910</td>\n",
       "    </tr>\n",
       "  </tbody>\n",
       "</table>\n",
       "</div>"
      ],
      "text/plain": [
       "                        Unit price  Quantity\n",
       "Product line                                \n",
       "Electronic accessories     9103.77       971\n",
       "Fashion accessories        9877.86       872\n",
       "Food and beverages         9647.02       942\n",
       "Health and beauty          8337.88       854\n",
       "Home and lifestyle         8462.88       871\n",
       "Sports and travel          9365.44       910"
      ]
     },
     "execution_count": 59,
     "metadata": {},
     "output_type": "execute_result"
    }
   ],
   "source": [
    "df1.groupby('Product line').agg({'Unit price':'sum','Quantity':'sum'})"
   ]
  },
  {
   "cell_type": "code",
   "execution_count": 60,
   "id": "2f0dcb62-7fc4-4886-a21f-6d1fa08e19d4",
   "metadata": {},
   "outputs": [
    {
     "data": {
      "image/png": "[encoded data removed]",
      "text/plain": [
       "<Figure size 640x480 with 1 Axes>"
      ]
     },
     "metadata": {},
     "output_type": "display_data"
    }
   ],
   "source": [
    "plt.scatter(df1['Unit price'], df1['Quantity'])\n",
    "plt.title('Unit Price vs. Quantity')\n",
    "plt.xlabel('Unit Price')\n",
    "plt.ylabel('Quantity')\n",
    "plt.show()"
   ]
  },
  {
   "cell_type": "markdown",
   "id": "f9633a98-36e3-4623-a3bf-ecc6c7760691",
   "metadata": {},
   "source": [
    "# Total Invoice amount generate by Gender"
   ]
  },
  {
   "cell_type": "code",
   "execution_count": 61,
   "id": "234a28b8-b190-4dfb-a92b-1d4afa8927ae",
   "metadata": {},
   "outputs": [
    {
     "name": "stdout",
     "output_type": "stream",
     "text": [
      "             Total\n",
      "Gender            \n",
      "Female  161738.115\n",
      "Male    152017.194\n"
     ]
    },
    {
     "data": {
      "image/png": "[encoded data removed]",
      "text/plain": [
       "<Figure size 600x300 with 1 Axes>"
      ]
     },
     "metadata": {},
     "output_type": "display_data"
    }
   ],
   "source": [
    "gender_sum=df1.groupby('Gender').agg({'Total':'sum'})\n",
    "gender_sum.plot(kind='bar', figsize=(6, 3), title='Total Sales by Gender')\n",
    "print(gender_sum)"
   ]
  },
  {
   "cell_type": "code",
   "execution_count": 62,
   "id": "4cbf904e-e94b-492e-a0fd-97aec0a3e6c7",
   "metadata": {},
   "outputs": [
    {
     "data": {
      "image/png": "[encoded data removed]",
      "text/plain": [
       "<Figure size 640x480 with 1 Axes>"
      ]
     },
     "metadata": {},
     "output_type": "display_data"
    }
   ],
   "source": [
    "sns.barplot(x='Customer type', y='Total', hue='Gender', data=df1)\n",
    "plt.title('Total Invoice Amount by Gender and Customer Type')\n",
    "plt.show()"
   ]
  },
  {
   "cell_type": "markdown",
   "id": "8cab5386-a3f6-47c9-8174-3daaec04bdfc",
   "metadata": {},
   "source": [
    "# Total invoice Amount by date"
   ]
  },
  {
   "cell_type": "code",
   "execution_count": 63,
   "id": "2ce9cc15-2d95-4fcc-95cb-a0c9f3a94877",
   "metadata": {},
   "outputs": [
    {
     "data": {
      "text/html": [
       "<div>\n",
       "<style scoped>\n",
       "    .dataframe tbody tr th:only-of-type {\n",
       "        vertical-align: middle;\n",
       "    }\n",
       "\n",
       "    .dataframe tbody tr th {\n",
       "        vertical-align: top;\n",
       "    }\n",
       "\n",
       "    .dataframe thead th {\n",
       "        text-align: right;\n",
       "    }\n",
       "</style>\n",
       "<table border=\"1\" class=\"dataframe\">\n",
       "  <thead>\n",
       "    <tr style=\"text-align: right;\">\n",
       "      <th></th>\n",
       "      <th>Total</th>\n",
       "      <th>Invoice ID</th>\n",
       "    </tr>\n",
       "    <tr>\n",
       "      <th>Date</th>\n",
       "      <th></th>\n",
       "      <th></th>\n",
       "    </tr>\n",
       "  </thead>\n",
       "  <tbody>\n",
       "    <tr>\n",
       "      <th>2019-01-01</th>\n",
       "      <td>4745.1810</td>\n",
       "      <td>12</td>\n",
       "    </tr>\n",
       "    <tr>\n",
       "      <th>2019-01-02</th>\n",
       "      <td>1945.5030</td>\n",
       "      <td>8</td>\n",
       "    </tr>\n",
       "    <tr>\n",
       "      <th>2019-01-03</th>\n",
       "      <td>2078.1285</td>\n",
       "      <td>8</td>\n",
       "    </tr>\n",
       "    <tr>\n",
       "      <th>2019-01-04</th>\n",
       "      <td>1623.6885</td>\n",
       "      <td>6</td>\n",
       "    </tr>\n",
       "    <tr>\n",
       "      <th>2019-01-05</th>\n",
       "      <td>3536.6835</td>\n",
       "      <td>12</td>\n",
       "    </tr>\n",
       "    <tr>\n",
       "      <th>2019-01-06</th>\n",
       "      <td>3614.2050</td>\n",
       "      <td>9</td>\n",
       "    </tr>\n",
       "    <tr>\n",
       "      <th>2019-01-07</th>\n",
       "      <td>2834.2440</td>\n",
       "      <td>9</td>\n",
       "    </tr>\n",
       "    <tr>\n",
       "      <th>2019-01-08</th>\n",
       "      <td>5293.7325</td>\n",
       "      <td>18</td>\n",
       "    </tr>\n",
       "    <tr>\n",
       "      <th>2019-01-09</th>\n",
       "      <td>2019.2235</td>\n",
       "      <td>7</td>\n",
       "    </tr>\n",
       "    <tr>\n",
       "      <th>2019-01-10</th>\n",
       "      <td>3560.9490</td>\n",
       "      <td>9</td>\n",
       "    </tr>\n",
       "  </tbody>\n",
       "</table>\n",
       "</div>"
      ],
      "text/plain": [
       "                Total  Invoice ID\n",
       "Date                             \n",
       "2019-01-01  4745.1810          12\n",
       "2019-01-02  1945.5030           8\n",
       "2019-01-03  2078.1285           8\n",
       "2019-01-04  1623.6885           6\n",
       "2019-01-05  3536.6835          12\n",
       "2019-01-06  3614.2050           9\n",
       "2019-01-07  2834.2440           9\n",
       "2019-01-08  5293.7325          18\n",
       "2019-01-09  2019.2235           7\n",
       "2019-01-10  3560.9490           9"
      ]
     },
     "execution_count": 63,
     "metadata": {},
     "output_type": "execute_result"
    }
   ],
   "source": [
    "df1.groupby('Date').agg({'Total':'sum','Invoice ID':'count'}).head(10)\n"
   ]
  },
  {
   "cell_type": "code",
   "execution_count": null,
   "id": "1945ec36-7573-4e3b-b834-331107af6a58",
   "metadata": {},
   "outputs": [],
   "source": []
  },
  {
   "cell_type": "markdown",
   "id": "107c21b5-c413-4117-b76c-e484dff33ee7",
   "metadata": {},
   "source": [
    "# Top 5 product line Generate higest Amount"
   ]
  },
  {
   "cell_type": "code",
   "execution_count": 64,
   "id": "0e793c0b-e8db-4400-b750-1bba99594020",
   "metadata": {},
   "outputs": [
    {
     "data": {
      "text/plain": [
       "Product line\n",
       "Food and beverages        55110.3840\n",
       "Electronic accessories    54337.5315\n",
       "Sports and travel         54120.7065\n",
       "Fashion accessories       51203.2500\n",
       "Home and lifestyle        49789.6980\n",
       "Name: Total, dtype: float64"
      ]
     },
     "execution_count": 64,
     "metadata": {},
     "output_type": "execute_result"
    }
   ],
   "source": [
    "\n",
    "top_5_prod = df1.groupby('Product line')['Total'].sum().nlargest(5)\n",
    "top_5_prod"
   ]
  },
  {
   "cell_type": "markdown",
   "id": "92670d8d-fd9e-4f64-9c0f-86a78c811d9c",
   "metadata": {},
   "source": [
    "# higest amount generate by city"
   ]
  },
  {
   "cell_type": "code",
   "execution_count": 65,
   "id": "a4f4e25f-b300-4b2d-8881-70190e322d8a",
   "metadata": {},
   "outputs": [
    {
     "data": {
      "text/plain": [
       "City\n",
       "Yangon       105161.0805\n",
       "Naypyitaw    104441.4315\n",
       "Mandalay     104152.7970\n",
       "Name: Total, dtype: float64"
      ]
     },
     "execution_count": 65,
     "metadata": {},
     "output_type": "execute_result"
    }
   ],
   "source": [
    "top_performing_city = df1.groupby('City')['Total'].sum().nlargest(3)\n",
    "top_performing_city"
   ]
  },
  {
   "cell_type": "markdown",
   "id": "13aebe44-b11f-472e-aa9b-04a28b95844c",
   "metadata": {},
   "source": [
    "# Top performing Branch and Genrate higest Amount of Sales"
   ]
  },
  {
   "cell_type": "code",
   "execution_count": 66,
   "id": "641dab52-882d-4f1b-bdbb-56c588b7785e",
   "metadata": {},
   "outputs": [
    {
     "data": {
      "text/plain": [
       "Branch\n",
       "A    105161.0805\n",
       "C    104441.4315\n",
       "B    104152.7970\n",
       "Name: Total, dtype: float64"
      ]
     },
     "execution_count": 66,
     "metadata": {},
     "output_type": "execute_result"
    }
   ],
   "source": [
    "top_performing_branches = df1.groupby('Branch')['Total'].sum().nlargest(3)\n",
    "top_performing_branches"
   ]
  },
  {
   "cell_type": "markdown",
   "id": "869644a0-71e7-414d-8f51-4d4665ad95f8",
   "metadata": {},
   "source": [
    "# Values Count By Branch"
   ]
  },
  {
   "cell_type": "code",
   "execution_count": 67,
   "id": "99c1d1c6-1115-44b6-9711-f57a466a0d37",
   "metadata": {},
   "outputs": [
    {
     "data": {
      "image/png": "[encoded data removed]",
      "text/plain": [
       "<Figure size 640x480 with 1 Axes>"
      ]
     },
     "metadata": {},
     "output_type": "display_data"
    },
    {
     "name": "stdout",
     "output_type": "stream",
     "text": [
      "Customer type\n",
      "Member    501\n",
      "Normal    499\n",
      "Name: count, dtype: int64\n"
     ]
    }
   ],
   "source": [
    "# Bar charts\n",
    "df1['Branch'].value_counts().plot(kind='bar')\n",
    "plt.title('Branch Distribution')\n",
    "plt.xlabel('Branch')\n",
    "plt.ylabel('Count')\n",
    "plt.show()\n",
    "\n",
    "\n",
    "print(df['Customer type'].value_counts())"
   ]
  },
  {
   "cell_type": "code",
   "execution_count": null,
   "id": "d2201f33-a40d-4161-ac87-8e3f8c12f7ac",
   "metadata": {},
   "outputs": [],
   "source": []
  },
  {
   "cell_type": "markdown",
   "id": "7b390cd4-c979-424e-88e7-169b723198f4",
   "metadata": {},
   "source": [
    "# Payment Method by Branch with the help of cross tabulation"
   ]
  },
  {
   "cell_type": "code",
   "execution_count": 68,
   "id": "81823a10-e8e7-4bcc-a713-bff69b6b0462",
   "metadata": {},
   "outputs": [
    {
     "data": {
      "text/html": [
       "<div>\n",
       "<style scoped>\n",
       "    .dataframe tbody tr th:only-of-type {\n",
       "        vertical-align: middle;\n",
       "    }\n",
       "\n",
       "    .dataframe tbody tr th {\n",
       "        vertical-align: top;\n",
       "    }\n",
       "\n",
       "    .dataframe thead th {\n",
       "        text-align: right;\n",
       "    }\n",
       "</style>\n",
       "<table border=\"1\" class=\"dataframe\">\n",
       "  <thead>\n",
       "    <tr style=\"text-align: right;\">\n",
       "      <th></th>\n",
       "      <th>Payment</th>\n",
       "    </tr>\n",
       "    <tr>\n",
       "      <th>Branch</th>\n",
       "      <th></th>\n",
       "    </tr>\n",
       "  </thead>\n",
       "  <tbody>\n",
       "    <tr>\n",
       "      <th>A</th>\n",
       "      <td>339</td>\n",
       "    </tr>\n",
       "    <tr>\n",
       "      <th>B</th>\n",
       "      <td>330</td>\n",
       "    </tr>\n",
       "    <tr>\n",
       "      <th>C</th>\n",
       "      <td>322</td>\n",
       "    </tr>\n",
       "  </tbody>\n",
       "</table>\n",
       "</div>"
      ],
      "text/plain": [
       "        Payment\n",
       "Branch         \n",
       "A           339\n",
       "B           330\n",
       "C           322"
      ]
     },
     "execution_count": 68,
     "metadata": {},
     "output_type": "execute_result"
    }
   ],
   "source": [
    "df1.groupby('Branch').agg({'Payment':'count'})"
   ]
  },
  {
   "cell_type": "code",
   "execution_count": 69,
   "id": "4bf3c55a-e623-432d-8fad-2bd90213d09a",
   "metadata": {},
   "outputs": [
    {
     "data": {
      "text/html": [
       "<div>\n",
       "<style scoped>\n",
       "    .dataframe tbody tr th:only-of-type {\n",
       "        vertical-align: middle;\n",
       "    }\n",
       "\n",
       "    .dataframe tbody tr th {\n",
       "        vertical-align: top;\n",
       "    }\n",
       "\n",
       "    .dataframe thead th {\n",
       "        text-align: right;\n",
       "    }\n",
       "</style>\n",
       "<table border=\"1\" class=\"dataframe\">\n",
       "  <thead>\n",
       "    <tr style=\"text-align: right;\">\n",
       "      <th></th>\n",
       "      <th>Branch</th>\n",
       "    </tr>\n",
       "    <tr>\n",
       "      <th>Payment</th>\n",
       "      <th></th>\n",
       "    </tr>\n",
       "  </thead>\n",
       "  <tbody>\n",
       "    <tr>\n",
       "      <th>Cash</th>\n",
       "      <td>342</td>\n",
       "    </tr>\n",
       "    <tr>\n",
       "      <th>Credit card</th>\n",
       "      <td>307</td>\n",
       "    </tr>\n",
       "    <tr>\n",
       "      <th>Ewallet</th>\n",
       "      <td>342</td>\n",
       "    </tr>\n",
       "  </tbody>\n",
       "</table>\n",
       "</div>"
      ],
      "text/plain": [
       "             Branch\n",
       "Payment            \n",
       "Cash            342\n",
       "Credit card     307\n",
       "Ewallet         342"
      ]
     },
     "execution_count": 69,
     "metadata": {},
     "output_type": "execute_result"
    }
   ],
   "source": [
    "df1.groupby('Payment').agg({'Branch':'count'})"
   ]
  },
  {
   "cell_type": "code",
   "execution_count": 70,
   "id": "d24d5c08-42dd-47bf-8d30-df6404fe5748",
   "metadata": {},
   "outputs": [
    {
     "data": {
      "image/png": "[encoded data removed]",
      "text/plain": [
       "<Figure size 640x480 with 1 Axes>"
      ]
     },
     "metadata": {},
     "output_type": "display_data"
    }
   ],
   "source": [
    "pd.crosstab(df1['Payment'], df1['Branch']).plot(kind='bar', stacked=True)\n",
    "plt.title('Payment Method by Branch')\n",
    "plt.xlabel('Payment')\n",
    "plt.ylabel('Count')\n",
    "plt.show()"
   ]
  },
  {
   "cell_type": "markdown",
   "id": "14636f96-defe-42a2-873c-ef197a9a2d6d",
   "metadata": {},
   "source": [
    "# Payment method using and its total sum"
   ]
  },
  {
   "cell_type": "code",
   "execution_count": 71,
   "id": "6adb971b-bf6c-4830-a93b-82ffcf8931dc",
   "metadata": {},
   "outputs": [
    {
     "name": "stdout",
     "output_type": "stream",
     "text": [
      "Payment\n",
      "Cash           112206.570\n",
      "Credit card    100767.072\n",
      "Ewallet        109993.107\n",
      "Name: Total, dtype: float64\n"
     ]
    },
    {
     "data": {
      "text/plain": [
       "<Axes: title={'center': 'Payment Method Usage'}, ylabel='Total'>"
      ]
     },
     "execution_count": 71,
     "metadata": {},
     "output_type": "execute_result"
    },
    {
     "data": {
      "image/png": "[encoded data removed]",
      "text/plain": [
       "<Figure size 640x480 with 1 Axes>"
      ]
     },
     "metadata": {},
     "output_type": "display_data"
    }
   ],
   "source": [
    "payment_method_usage = df.groupby('Payment')['Total'].sum()\n",
    "print(payment_method_usage)\n",
    "payment_method_usage.plot(kind='pie', autopct='%1.1f%%', title='Payment Method Usage')"
   ]
  },
  {
   "cell_type": "markdown",
   "id": "54c77d04-0179-46e7-8f80-85b6f3a78d77",
   "metadata": {},
   "source": [
    "# Quantity and his Total sum of Max"
   ]
  },
  {
   "cell_type": "code",
   "execution_count": 72,
   "id": "5b2c3c4f-249e-435e-bf76-4ad424586409",
   "metadata": {},
   "outputs": [
    {
     "data": {
      "text/plain": [
       "Quantity\n",
       "1     104.6745\n",
       "2     209.7690\n",
       "3     314.0550\n",
       "4     417.5640\n",
       "5     523.8450\n",
       "6     629.4960\n",
       "7     734.7060\n",
       "8     836.3040\n",
       "9     944.6220\n",
       "10    951.8250\n",
       "Name: Total, dtype: float64"
      ]
     },
     "execution_count": 72,
     "metadata": {},
     "output_type": "execute_result"
    }
   ],
   "source": [
    "df1.groupby('Quantity')['Total'].max()"
   ]
  },
  {
   "cell_type": "code",
   "execution_count": 73,
   "id": "41838f20-464c-4bb0-81b0-d12878a5b914",
   "metadata": {},
   "outputs": [
    {
     "data": {
      "text/plain": [
       "<Axes: xlabel='Quantity', ylabel='Total'>"
      ]
     },
     "execution_count": 73,
     "metadata": {},
     "output_type": "execute_result"
    },
    {
     "data": {
      "image/png": "[encoded data removed]",
      "text/plain": [
       "<Figure size 640x480 with 1 Axes>"
      ]
     },
     "metadata": {},
     "output_type": "display_data"
    }
   ],
   "source": [
    "sns.barplot(x='Quantity',y='Total',data=df1)"
   ]
  },
  {
   "cell_type": "markdown",
   "id": "7c8abada-9c20-4af3-bc02-96a3a8f5b4dd",
   "metadata": {},
   "source": [
    "# Here i chek Product and his COGS and Gross Income and Total Sales"
   ]
  },
  {
   "cell_type": "code",
   "execution_count": 74,
   "id": "1b5333fd-3f34-4b15-ae35-67568986dfee",
   "metadata": {},
   "outputs": [
    {
     "data": {
      "text/html": [
       "<div>\n",
       "<style scoped>\n",
       "    .dataframe tbody tr th:only-of-type {\n",
       "        vertical-align: middle;\n",
       "    }\n",
       "\n",
       "    .dataframe tbody tr th {\n",
       "        vertical-align: top;\n",
       "    }\n",
       "\n",
       "    .dataframe thead th {\n",
       "        text-align: right;\n",
       "    }\n",
       "</style>\n",
       "<table border=\"1\" class=\"dataframe\">\n",
       "  <thead>\n",
       "    <tr style=\"text-align: right;\">\n",
       "      <th></th>\n",
       "      <th>cogs</th>\n",
       "      <th>gross income</th>\n",
       "      <th>Total</th>\n",
       "    </tr>\n",
       "    <tr>\n",
       "      <th>Product line</th>\n",
       "      <th></th>\n",
       "      <th></th>\n",
       "      <th></th>\n",
       "    </tr>\n",
       "  </thead>\n",
       "  <tbody>\n",
       "    <tr>\n",
       "      <th>Electronic accessories</th>\n",
       "      <td>51750.03</td>\n",
       "      <td>2587.5015</td>\n",
       "      <td>54337.5315</td>\n",
       "    </tr>\n",
       "    <tr>\n",
       "      <th>Fashion accessories</th>\n",
       "      <td>48765.00</td>\n",
       "      <td>2438.2500</td>\n",
       "      <td>51203.2500</td>\n",
       "    </tr>\n",
       "    <tr>\n",
       "      <th>Food and beverages</th>\n",
       "      <td>52486.08</td>\n",
       "      <td>2624.3040</td>\n",
       "      <td>55110.3840</td>\n",
       "    </tr>\n",
       "    <tr>\n",
       "      <th>Health and beauty</th>\n",
       "      <td>46851.18</td>\n",
       "      <td>2342.5590</td>\n",
       "      <td>49193.7390</td>\n",
       "    </tr>\n",
       "    <tr>\n",
       "      <th>Home and lifestyle</th>\n",
       "      <td>47418.76</td>\n",
       "      <td>2370.9380</td>\n",
       "      <td>49789.6980</td>\n",
       "    </tr>\n",
       "    <tr>\n",
       "      <th>Sports and travel</th>\n",
       "      <td>51543.53</td>\n",
       "      <td>2577.1765</td>\n",
       "      <td>54120.7065</td>\n",
       "    </tr>\n",
       "  </tbody>\n",
       "</table>\n",
       "</div>"
      ],
      "text/plain": [
       "                            cogs  gross income       Total\n",
       "Product line                                              \n",
       "Electronic accessories  51750.03     2587.5015  54337.5315\n",
       "Fashion accessories     48765.00     2438.2500  51203.2500\n",
       "Food and beverages      52486.08     2624.3040  55110.3840\n",
       "Health and beauty       46851.18     2342.5590  49193.7390\n",
       "Home and lifestyle      47418.76     2370.9380  49789.6980\n",
       "Sports and travel       51543.53     2577.1765  54120.7065"
      ]
     },
     "execution_count": 74,
     "metadata": {},
     "output_type": "execute_result"
    }
   ],
   "source": [
    "df1.groupby('Product line').agg({'cogs':'sum','gross income':'sum','Total':'sum'})"
   ]
  },
  {
   "cell_type": "markdown",
   "id": "894fb938-9200-4657-b714-cc7e6d4ecebe",
   "metadata": {},
   "source": [
    "# Average product Buying by Coustomer typs"
   ]
  },
  {
   "cell_type": "code",
   "execution_count": 75,
   "id": "f85ebceb-829a-431c-acd3-0fabeec8b3a6",
   "metadata": {},
   "outputs": [
    {
     "name": "stdout",
     "output_type": "stream",
     "text": [
      "\n",
      "Average product  Purchase Amount by Customer Type:\n",
      "Customer type\n",
      "Member    323.545440\n",
      "Normal    309.593671\n",
      "Name: Total, dtype: float64\n"
     ]
    }
   ],
   "source": [
    "avg_product_purchase= df1.groupby('Customer type')['Total'].mean()\n",
    "print(\"\\nAverage product  Purchase Amount by Customer Type:\")\n",
    "print(avg_product_purchase)\n"
   ]
  },
  {
   "cell_type": "markdown",
   "id": "7d6f53e4-cb7c-43c1-962d-23fbce700422",
   "metadata": {},
   "source": [
    "# higest Product buying by gender"
   ]
  },
  {
   "cell_type": "code",
   "execution_count": 76,
   "id": "263c3297-fd7c-49d8-8c0f-ae8de001dea1",
   "metadata": {},
   "outputs": [
    {
     "name": "stdout",
     "output_type": "stream",
     "text": [
      "Gender  Product line          \n",
      "Female  Electronic accessories    488\n",
      "        Fashion accessories       510\n",
      "        Food and beverages        504\n",
      "        Health and beauty         343\n",
      "        Home and lifestyle        478\n",
      "        Sports and travel         486\n",
      "Male    Electronic accessories    483\n",
      "        Fashion accessories       362\n",
      "        Food and beverages        438\n",
      "        Health and beauty         511\n",
      "        Home and lifestyle        393\n",
      "        Sports and travel         424\n",
      "Name: Quantity, dtype: int64\n"
     ]
    }
   ],
   "source": [
    "pd_gender = df1.groupby(['Gender', 'Product line'])['Quantity'].sum()\n",
    "\n",
    "print(pd_gender)\n"
   ]
  },
  {
   "cell_type": "code",
   "execution_count": null,
   "id": "bf20bc9e-7fec-499d-8c74-b77177a7a004",
   "metadata": {},
   "outputs": [],
   "source": []
  },
  {
   "cell_type": "markdown",
   "id": "4e695f24-fee7-4538-895f-751f327c5bc6",
   "metadata": {},
   "source": [
    "#  Average Rating by Branch"
   ]
  },
  {
   "cell_type": "code",
   "execution_count": 77,
   "id": "219d8ea3-9836-4530-b54c-014bbd2a9b94",
   "metadata": {},
   "outputs": [
    {
     "name": "stdout",
     "output_type": "stream",
     "text": [
      "\n",
      "Average Rating by Branch:\n",
      "Branch\n",
      "A    7.022124\n",
      "B    6.831212\n",
      "C    7.087267\n",
      "Name: Rating, dtype: float64\n"
     ]
    }
   ],
   "source": [
    "\n",
    "avg_rating_by_branch = df1.groupby('Branch')['Rating'].mean()\n",
    "print(\"\\nAverage Rating by Branch:\")\n",
    "print(avg_rating_by_branch)\n",
    "\n",
    "\n"
   ]
  },
  {
   "cell_type": "code",
   "execution_count": 78,
   "id": "09c47046-d609-489e-80d1-24949fc90cf3",
   "metadata": {},
   "outputs": [
    {
     "data": {
      "text/plain": [
       "<Axes: >"
      ]
     },
     "execution_count": 78,
     "metadata": {},
     "output_type": "execute_result"
    },
    {
     "data": {
      "image/png": "[encoded data removed]",
      "text/plain": [
       "<Figure size 600x300 with 1 Axes>"
      ]
     },
     "metadata": {},
     "output_type": "display_data"
    }
   ],
   "source": [
    "df1['Rating'].hist(bins=10, figsize=(6, 3))"
   ]
  },
  {
   "cell_type": "markdown",
   "id": "aa5b3b70-7902-4abc-be0f-369790d48c43",
   "metadata": {},
   "source": [
    "# Purchase Frequency by Customer Type\n"
   ]
  },
  {
   "cell_type": "code",
   "execution_count": 79,
   "id": "b57252a6-f23c-431c-bf40-16e54b11b12e",
   "metadata": {},
   "outputs": [
    {
     "name": "stdout",
     "output_type": "stream",
     "text": [
      "\n",
      "Purchase Frequency by Customer Type:\n",
      "Customer type\n",
      "Member    498\n",
      "Normal    493\n",
      "Name: Invoice ID, dtype: int64\n"
     ]
    }
   ],
   "source": [
    "purchase_frequency_by_type = df1.groupby('Customer type')['Invoice ID'].nunique()\n",
    "print(\"\\nPurchase Frequency by Customer Type:\")\n",
    "print(purchase_frequency_by_type)\n"
   ]
  },
  {
   "cell_type": "markdown",
   "id": "173c556a-58de-44ae-8efd-dbbd4d08c1f6",
   "metadata": {},
   "source": [
    "# sales analysis by branch and product line"
   ]
  },
  {
   "cell_type": "code",
   "execution_count": 80,
   "id": "b2773bac-396e-4db6-8202-37e13425a17a",
   "metadata": {},
   "outputs": [
    {
     "data": {
      "text/plain": [
       "Branch  Product line          \n",
       "A       Electronic accessories    18317.1135\n",
       "        Fashion accessories       15293.2185\n",
       "        Food and beverages        17163.1005\n",
       "        Health and beauty         12597.7530\n",
       "        Home and lifestyle        22417.1955\n",
       "        Sports and travel         19372.6995\n",
       "B       Electronic accessories    17051.4435\n",
       "        Fashion accessories       16413.3165\n",
       "        Food and beverages        15214.8885\n",
       "        Health and beauty         19980.6600\n",
       "        Home and lifestyle        15504.2895\n",
       "        Sports and travel         19988.1990\n",
       "C       Electronic accessories    18968.9745\n",
       "        Fashion accessories       19496.7150\n",
       "        Food and beverages        22732.3950\n",
       "        Health and beauty         16615.3260\n",
       "        Home and lifestyle        11868.2130\n",
       "        Sports and travel         14759.8080\n",
       "Name: Total, dtype: float64"
      ]
     },
     "execution_count": 80,
     "metadata": {},
     "output_type": "execute_result"
    }
   ],
   "source": [
    "\n",
    "sales_by_branch_product = df1.groupby(['Branch', 'Product line'])['Total'].sum()\n",
    "sales_by_branch_product"
   ]
  },
  {
   "cell_type": "code",
   "execution_count": null,
   "id": "d9fb4586-5a9c-4003-ad74-a9f2637eea68",
   "metadata": {},
   "outputs": [],
   "source": []
  },
  {
   "cell_type": "code",
   "execution_count": 81,
   "id": "4411f798-dc96-4614-95c2-82b67b2892a8",
   "metadata": {},
   "outputs": [
    {
     "data": {
      "image/png": "[encoded data removed]",
      "text/plain": [
       "<Figure size 1000x500 with 1 Axes>"
      ]
     },
     "metadata": {},
     "output_type": "display_data"
    }
   ],
   "source": [
    "sales_by_branch_product.plot(kind='bar', figsize=(10, 5), title='Total Sales by Branch and Product Line')\n",
    "plt.show()"
   ]
  },
  {
   "cell_type": "code",
   "execution_count": null,
   "id": "80036f05-36c3-4445-826a-7e091b26bf6a",
   "metadata": {},
   "outputs": [],
   "source": []
  },
  {
   "cell_type": "markdown",
   "id": "be5b0ce0-4e10-426b-a927-c7310b8ee754",
   "metadata": {},
   "source": [
    "# . Average Sales By Customer Segmentation Analysis"
   ]
  },
  {
   "cell_type": "code",
   "execution_count": 82,
   "id": "52dae697-b606-4fb0-9549-de2f846882e0",
   "metadata": {},
   "outputs": [
    {
     "data": {
      "text/plain": [
       "Customer type\n",
       "Member    323.545440\n",
       "Normal    309.593671\n",
       "Name: Total, dtype: float64"
      ]
     },
     "execution_count": 82,
     "metadata": {},
     "output_type": "execute_result"
    }
   ],
   "source": [
    "customer_segmentation = df1.groupby('Customer type')['Total'].mean()\n",
    "customer_segmentation "
   ]
  },
  {
   "cell_type": "code",
   "execution_count": 83,
   "id": "6dbc8d97-d8c1-4c23-a906-72f784be93ba",
   "metadata": {},
   "outputs": [
    {
     "data": {
      "text/plain": [
       "Text(0.5, 1.0, 'Total Sales By costomer segment')"
      ]
     },
     "execution_count": 83,
     "metadata": {},
     "output_type": "execute_result"
    },
    {
     "data": {
      "image/png": "[encoded data removed]",
      "text/plain": [
       "<Figure size 640x480 with 1 Axes>"
      ]
     },
     "metadata": {},
     "output_type": "display_data"
    }
   ],
   "source": [
    "customer_segmentation.plot(kind='pie', autopct='%1.1f%%')\n",
    "plt.title(\"Total Sales By costomer segment\")"
   ]
  },
  {
   "cell_type": "markdown",
   "id": "65903b12-bc5e-47e9-9dd1-da458c13fbed",
   "metadata": {},
   "source": [
    "#  cheak  Product Line Performance"
   ]
  },
  {
   "cell_type": "code",
   "execution_count": 84,
   "id": "355752cf-1d8d-4ef4-8105-d9893a36a7aa",
   "metadata": {},
   "outputs": [
    {
     "data": {
      "text/plain": [
       "Product line\n",
       "Electronic accessories    54337.5315\n",
       "Fashion accessories       51203.2500\n",
       "Food and beverages        55110.3840\n",
       "Health and beauty         49193.7390\n",
       "Home and lifestyle        49789.6980\n",
       "Sports and travel         54120.7065\n",
       "Name: Total, dtype: float64"
      ]
     },
     "execution_count": 84,
     "metadata": {},
     "output_type": "execute_result"
    }
   ],
   "source": [
    "product_line_performance = df1.groupby('Product line')['Total'].sum()\n",
    "product_line_performance"
   ]
  },
  {
   "cell_type": "code",
   "execution_count": 85,
   "id": "e9cb44c5-f70d-4c31-94ae-7b37f702c904",
   "metadata": {},
   "outputs": [
    {
     "data": {
      "text/plain": [
       "<Axes: title={'center': 'Total Sales by Product Line'}, xlabel='Product line'>"
      ]
     },
     "execution_count": 85,
     "metadata": {},
     "output_type": "execute_result"
    },
    {
     "data": {
      "image/png": "[encoded data removed]",
      "text/plain": [
       "<Figure size 640x480 with 1 Axes>"
      ]
     },
     "metadata": {},
     "output_type": "display_data"
    }
   ],
   "source": [
    "product_line_performance.plot(kind='bar', title='Total Sales by Product Line')"
   ]
  },
  {
   "cell_type": "markdown",
   "id": "a3620205-c44e-498e-a10e-53383a2eb2ab",
   "metadata": {},
   "source": [
    "# 5. Average off Total Value"
   ]
  },
  {
   "cell_type": "code",
   "execution_count": 86,
   "id": "a7ea8b25-28ff-4655-8a4d-d904112964e6",
   "metadata": {},
   "outputs": [
    {
     "data": {
      "text/plain": [
       "316.60475176589307"
      ]
     },
     "execution_count": 86,
     "metadata": {},
     "output_type": "execute_result"
    }
   ],
   "source": [
    " df1['Total'].mean()"
   ]
  },
  {
   "cell_type": "markdown",
   "id": "0b1ca269-001b-43e8-8340-bf32c5a658ca",
   "metadata": {},
   "source": [
    "# mothly wise sales group by Total"
   ]
  },
  {
   "cell_type": "code",
   "execution_count": 87,
   "id": "4ab6babc-30d7-439c-9faa-bcd6c04f4198",
   "metadata": {},
   "outputs": [
    {
     "data": {
      "text/plain": [
       "Date\n",
       "2019-01    111205.563\n",
       "2019-02     94116.729\n",
       "2019-03    108433.017\n",
       "Freq: M, Name: Total, dtype: float64"
      ]
     },
     "execution_count": 87,
     "metadata": {},
     "output_type": "execute_result"
    }
   ],
   "source": [
    "df['Date'] = pd.to_datetime(df['Date'])\n",
    "monthly_sales = df1.groupby(df['Date'].dt.to_period('M'))['Total'].sum()\n",
    "monthly_sales"
   ]
  },
  {
   "cell_type": "code",
   "execution_count": 88,
   "id": "a4663368-486f-4b1a-83ca-ea2c7112b778",
   "metadata": {},
   "outputs": [
    {
     "data": {
      "image/png": "[encoded data removed]",
      "text/plain": [
       "<Figure size 640x480 with 1 Axes>"
      ]
     },
     "metadata": {},
     "output_type": "display_data"
    }
   ],
   "source": [
    "\n",
    "monthly_sales.plot(kind='bar', title='Total Monthly Sales')\n",
    "plt.show()\n"
   ]
  },
  {
   "cell_type": "code",
   "execution_count": 89,
   "id": "527aa3f9-8dc1-4ba7-8ef2-ef8f011bbcb6",
   "metadata": {},
   "outputs": [
    {
     "data": {
      "text/plain": [
       "Index(['Invoice ID', 'Branch', 'City', 'Customer type', 'Gender',\n",
       "       'Product line', 'Unit price', 'Quantity', 'Tax 5%', 'Total', 'Date',\n",
       "       'Time', 'Payment', 'cogs', 'gross margin percentage', 'gross income',\n",
       "       'Rating', 'day'],\n",
       "      dtype='object')"
      ]
     },
     "execution_count": 89,
     "metadata": {},
     "output_type": "execute_result"
    }
   ],
   "source": [
    "df1.columns"
   ]
  },
  {
   "cell_type": "markdown",
   "id": "0cf1539d-59d4-42a8-8ae4-6cb954cde4b6",
   "metadata": {},
   "source": [
    "# correlation between Unit price and Total"
   ]
  },
  {
   "cell_type": "code",
   "execution_count": 90,
   "id": "66ed2e78-9723-4b9b-a3c6-ff3504eb07da",
   "metadata": {},
   "outputs": [
    {
     "data": {
      "text/plain": [
       "<Axes: >"
      ]
     },
     "execution_count": 90,
     "metadata": {},
     "output_type": "execute_result"
    },
    {
     "data": {
      "image/png": "[encoded data removed]",
      "text/plain": [
       "<Figure size 640x480 with 2 Axes>"
      ]
     },
     "metadata": {},
     "output_type": "display_data"
    }
   ],
   "source": [
    "sns.heatmap(num.corr(),annot=True)"
   ]
  },
  {
   "cell_type": "code",
   "execution_count": 91,
   "id": "ca6e22d6-0ea3-417b-87ad-704227012599",
   "metadata": {},
   "outputs": [
    {
     "data": {
      "text/html": [
       "<div>\n",
       "<style scoped>\n",
       "    .dataframe tbody tr th:only-of-type {\n",
       "        vertical-align: middle;\n",
       "    }\n",
       "\n",
       "    .dataframe tbody tr th {\n",
       "        vertical-align: top;\n",
       "    }\n",
       "\n",
       "    .dataframe thead th {\n",
       "        text-align: right;\n",
       "    }\n",
       "</style>\n",
       "<table border=\"1\" class=\"dataframe\">\n",
       "  <thead>\n",
       "    <tr style=\"text-align: right;\">\n",
       "      <th></th>\n",
       "      <th>Unit price</th>\n",
       "      <th>Total</th>\n",
       "    </tr>\n",
       "  </thead>\n",
       "  <tbody>\n",
       "    <tr>\n",
       "      <th>Unit price</th>\n",
       "      <td>1.000000</td>\n",
       "      <td>0.623355</td>\n",
       "    </tr>\n",
       "    <tr>\n",
       "      <th>Total</th>\n",
       "      <td>0.623355</td>\n",
       "      <td>1.000000</td>\n",
       "    </tr>\n",
       "  </tbody>\n",
       "</table>\n",
       "</div>"
      ],
      "text/plain": [
       "            Unit price     Total\n",
       "Unit price    1.000000  0.623355\n",
       "Total         0.623355  1.000000"
      ]
     },
     "execution_count": 91,
     "metadata": {},
     "output_type": "execute_result"
    }
   ],
   "source": [
    "df1[['Unit price','Total']].corr()"
   ]
  },
  {
   "cell_type": "code",
   "execution_count": 92,
   "id": "2b654bd4-8669-4636-b32c-aaeb002581f7",
   "metadata": {},
   "outputs": [
    {
     "data": {
      "text/plain": [
       "Index(['Invoice ID', 'Branch', 'City', 'Customer type', 'Gender',\n",
       "       'Product line', 'Unit price', 'Quantity', 'Tax 5%', 'Total', 'Date',\n",
       "       'Time', 'Payment', 'cogs', 'gross margin percentage', 'gross income',\n",
       "       'Rating', 'day'],\n",
       "      dtype='object')"
      ]
     },
     "execution_count": 92,
     "metadata": {},
     "output_type": "execute_result"
    }
   ],
   "source": [
    "df.columns"
   ]
  },
  {
   "cell_type": "markdown",
   "id": "de2e38c2-1040-405d-b63a-dd7089a28b06",
   "metadata": {},
   "source": [
    "# ROI"
   ]
  },
  {
   "cell_type": "code",
   "execution_count": null,
   "id": "c158f70b-f404-4b9c-9406-a1152bd1555a",
   "metadata": {},
   "outputs": [],
   "source": []
  },
  {
   "cell_type": "code",
   "execution_count": 93,
   "id": "39763a8a-3914-4d1b-9f32-08618a3def68",
   "metadata": {},
   "outputs": [
    {
     "name": "stdout",
     "output_type": "stream",
     "text": [
      "total Sales =  322966.749\n",
      "Total COGS =  307587.38\n",
      "avg_gross_margin_percentage = 4.761904761904762\n"
     ]
    }
   ],
   "source": [
    "total_sales = df['Total'].sum()\n",
    "total_cogs = df['cogs'].sum()\n",
    "gross_income = total_sales - total_cogs\n",
    "avg_gross_margin_percentage = df['gross margin percentage'].mean()\n",
    "\n",
    "print(\"total Sales = \",total_sales)\n",
    "print(\"Total COGS = \",total_cogs)\n",
    "print('avg_gross_margin_percentage =',avg_gross_margin_percentage)\n"
   ]
  },
  {
   "cell_type": "markdown",
   "id": "a4772204-3740-449b-8d8f-d1b6838e38f9",
   "metadata": {},
   "source": [
    "\n",
    "# Define good and bad sales based on the average gross margin percentage"
   ]
  },
  {
   "cell_type": "code",
   "execution_count": 94,
   "id": "5ab9a1cf-dbd6-489a-ae35-b0e808b599f1",
   "metadata": {},
   "outputs": [
    {
     "data": {
      "text/html": [
       "<div>\n",
       "<style scoped>\n",
       "    .dataframe tbody tr th:only-of-type {\n",
       "        vertical-align: middle;\n",
       "    }\n",
       "\n",
       "    .dataframe tbody tr th {\n",
       "        vertical-align: top;\n",
       "    }\n",
       "\n",
       "    .dataframe thead th {\n",
       "        text-align: right;\n",
       "    }\n",
       "</style>\n",
       "<table border=\"1\" class=\"dataframe\">\n",
       "  <thead>\n",
       "    <tr style=\"text-align: right;\">\n",
       "      <th></th>\n",
       "      <th>Invoice ID</th>\n",
       "      <th>Branch</th>\n",
       "      <th>City</th>\n",
       "      <th>Customer type</th>\n",
       "      <th>Gender</th>\n",
       "      <th>Product line</th>\n",
       "      <th>Unit price</th>\n",
       "      <th>Quantity</th>\n",
       "      <th>Tax 5%</th>\n",
       "      <th>Total</th>\n",
       "      <th>Date</th>\n",
       "      <th>Time</th>\n",
       "      <th>Payment</th>\n",
       "      <th>cogs</th>\n",
       "      <th>gross margin percentage</th>\n",
       "      <th>gross income</th>\n",
       "      <th>Rating</th>\n",
       "      <th>day</th>\n",
       "    </tr>\n",
       "  </thead>\n",
       "  <tbody>\n",
       "    <tr>\n",
       "      <th>0</th>\n",
       "      <td>750-67-8428</td>\n",
       "      <td>A</td>\n",
       "      <td>Yangon</td>\n",
       "      <td>Member</td>\n",
       "      <td>Female</td>\n",
       "      <td>Health and beauty</td>\n",
       "      <td>74.69</td>\n",
       "      <td>7</td>\n",
       "      <td>26.1415</td>\n",
       "      <td>548.9715</td>\n",
       "      <td>2019-01-05</td>\n",
       "      <td>13:08:00</td>\n",
       "      <td>Ewallet</td>\n",
       "      <td>522.83</td>\n",
       "      <td>4.761905</td>\n",
       "      <td>26.1415</td>\n",
       "      <td>9.1</td>\n",
       "      <td>5</td>\n",
       "    </tr>\n",
       "    <tr>\n",
       "      <th>5</th>\n",
       "      <td>699-14-3026</td>\n",
       "      <td>C</td>\n",
       "      <td>Naypyitaw</td>\n",
       "      <td>Normal</td>\n",
       "      <td>Male</td>\n",
       "      <td>Electronic accessories</td>\n",
       "      <td>85.39</td>\n",
       "      <td>7</td>\n",
       "      <td>29.8865</td>\n",
       "      <td>627.6165</td>\n",
       "      <td>2019-03-25</td>\n",
       "      <td>18:30:00</td>\n",
       "      <td>Ewallet</td>\n",
       "      <td>597.73</td>\n",
       "      <td>4.761905</td>\n",
       "      <td>29.8865</td>\n",
       "      <td>4.1</td>\n",
       "      <td>25</td>\n",
       "    </tr>\n",
       "    <tr>\n",
       "      <th>6</th>\n",
       "      <td>355-53-5943</td>\n",
       "      <td>A</td>\n",
       "      <td>Yangon</td>\n",
       "      <td>Member</td>\n",
       "      <td>Female</td>\n",
       "      <td>Electronic accessories</td>\n",
       "      <td>68.84</td>\n",
       "      <td>6</td>\n",
       "      <td>20.6520</td>\n",
       "      <td>433.6920</td>\n",
       "      <td>2019-02-25</td>\n",
       "      <td>14:36:00</td>\n",
       "      <td>Ewallet</td>\n",
       "      <td>413.04</td>\n",
       "      <td>4.761905</td>\n",
       "      <td>20.6520</td>\n",
       "      <td>5.8</td>\n",
       "      <td>25</td>\n",
       "    </tr>\n",
       "    <tr>\n",
       "      <th>7</th>\n",
       "      <td>315-22-5665</td>\n",
       "      <td>C</td>\n",
       "      <td>Naypyitaw</td>\n",
       "      <td>Normal</td>\n",
       "      <td>Female</td>\n",
       "      <td>Home and lifestyle</td>\n",
       "      <td>73.56</td>\n",
       "      <td>10</td>\n",
       "      <td>36.7800</td>\n",
       "      <td>772.3800</td>\n",
       "      <td>2019-02-24</td>\n",
       "      <td>11:38:00</td>\n",
       "      <td>Ewallet</td>\n",
       "      <td>735.60</td>\n",
       "      <td>4.761905</td>\n",
       "      <td>36.7800</td>\n",
       "      <td>8.0</td>\n",
       "      <td>24</td>\n",
       "    </tr>\n",
       "    <tr>\n",
       "      <th>9</th>\n",
       "      <td>692-92-5582</td>\n",
       "      <td>B</td>\n",
       "      <td>Mandalay</td>\n",
       "      <td>Member</td>\n",
       "      <td>Female</td>\n",
       "      <td>Food and beverages</td>\n",
       "      <td>54.84</td>\n",
       "      <td>3</td>\n",
       "      <td>8.2260</td>\n",
       "      <td>172.7460</td>\n",
       "      <td>2019-02-20</td>\n",
       "      <td>13:27:00</td>\n",
       "      <td>Credit card</td>\n",
       "      <td>164.52</td>\n",
       "      <td>4.761905</td>\n",
       "      <td>8.2260</td>\n",
       "      <td>5.9</td>\n",
       "      <td>20</td>\n",
       "    </tr>\n",
       "    <tr>\n",
       "      <th>...</th>\n",
       "      <td>...</td>\n",
       "      <td>...</td>\n",
       "      <td>...</td>\n",
       "      <td>...</td>\n",
       "      <td>...</td>\n",
       "      <td>...</td>\n",
       "      <td>...</td>\n",
       "      <td>...</td>\n",
       "      <td>...</td>\n",
       "      <td>...</td>\n",
       "      <td>...</td>\n",
       "      <td>...</td>\n",
       "      <td>...</td>\n",
       "      <td>...</td>\n",
       "      <td>...</td>\n",
       "      <td>...</td>\n",
       "      <td>...</td>\n",
       "      <td>...</td>\n",
       "    </tr>\n",
       "    <tr>\n",
       "      <th>987</th>\n",
       "      <td>552-44-5977</td>\n",
       "      <td>B</td>\n",
       "      <td>Mandalay</td>\n",
       "      <td>Member</td>\n",
       "      <td>Male</td>\n",
       "      <td>Health and beauty</td>\n",
       "      <td>62.00</td>\n",
       "      <td>8</td>\n",
       "      <td>24.8000</td>\n",
       "      <td>520.8000</td>\n",
       "      <td>2019-01-03</td>\n",
       "      <td>19:08:00</td>\n",
       "      <td>Credit card</td>\n",
       "      <td>496.00</td>\n",
       "      <td>4.761905</td>\n",
       "      <td>24.8000</td>\n",
       "      <td>6.2</td>\n",
       "      <td>3</td>\n",
       "    </tr>\n",
       "    <tr>\n",
       "      <th>989</th>\n",
       "      <td>430-53-4718</td>\n",
       "      <td>B</td>\n",
       "      <td>Mandalay</td>\n",
       "      <td>Member</td>\n",
       "      <td>Male</td>\n",
       "      <td>Health and beauty</td>\n",
       "      <td>75.37</td>\n",
       "      <td>8</td>\n",
       "      <td>30.1480</td>\n",
       "      <td>633.1080</td>\n",
       "      <td>2019-01-28</td>\n",
       "      <td>15:46:00</td>\n",
       "      <td>Credit card</td>\n",
       "      <td>602.96</td>\n",
       "      <td>4.761905</td>\n",
       "      <td>30.1480</td>\n",
       "      <td>8.4</td>\n",
       "      <td>28</td>\n",
       "    </tr>\n",
       "    <tr>\n",
       "      <th>990</th>\n",
       "      <td>886-18-2897</td>\n",
       "      <td>A</td>\n",
       "      <td>Yangon</td>\n",
       "      <td>Normal</td>\n",
       "      <td>Female</td>\n",
       "      <td>Food and beverages</td>\n",
       "      <td>56.56</td>\n",
       "      <td>5</td>\n",
       "      <td>14.1400</td>\n",
       "      <td>296.9400</td>\n",
       "      <td>2019-03-22</td>\n",
       "      <td>19:06:00</td>\n",
       "      <td>Credit card</td>\n",
       "      <td>282.80</td>\n",
       "      <td>4.761905</td>\n",
       "      <td>14.1400</td>\n",
       "      <td>4.5</td>\n",
       "      <td>22</td>\n",
       "    </tr>\n",
       "    <tr>\n",
       "      <th>995</th>\n",
       "      <td>233-67-5758</td>\n",
       "      <td>C</td>\n",
       "      <td>Naypyitaw</td>\n",
       "      <td>Normal</td>\n",
       "      <td>Male</td>\n",
       "      <td>Health and beauty</td>\n",
       "      <td>40.35</td>\n",
       "      <td>1</td>\n",
       "      <td>2.0175</td>\n",
       "      <td>42.3675</td>\n",
       "      <td>2019-01-29</td>\n",
       "      <td>13:46:00</td>\n",
       "      <td>Ewallet</td>\n",
       "      <td>40.35</td>\n",
       "      <td>4.761905</td>\n",
       "      <td>2.0175</td>\n",
       "      <td>6.2</td>\n",
       "      <td>29</td>\n",
       "    </tr>\n",
       "    <tr>\n",
       "      <th>999</th>\n",
       "      <td>849-09-3807</td>\n",
       "      <td>A</td>\n",
       "      <td>Yangon</td>\n",
       "      <td>Member</td>\n",
       "      <td>Female</td>\n",
       "      <td>Fashion accessories</td>\n",
       "      <td>88.34</td>\n",
       "      <td>7</td>\n",
       "      <td>30.9190</td>\n",
       "      <td>649.2990</td>\n",
       "      <td>2019-02-18</td>\n",
       "      <td>13:28:00</td>\n",
       "      <td>Cash</td>\n",
       "      <td>618.38</td>\n",
       "      <td>4.761905</td>\n",
       "      <td>30.9190</td>\n",
       "      <td>6.6</td>\n",
       "      <td>18</td>\n",
       "    </tr>\n",
       "  </tbody>\n",
       "</table>\n",
       "<p>423 rows × 18 columns</p>\n",
       "</div>"
      ],
      "text/plain": [
       "      Invoice ID Branch       City Customer type  Gender  \\\n",
       "0    750-67-8428      A     Yangon        Member  Female   \n",
       "5    699-14-3026      C  Naypyitaw        Normal    Male   \n",
       "6    355-53-5943      A     Yangon        Member  Female   \n",
       "7    315-22-5665      C  Naypyitaw        Normal  Female   \n",
       "9    692-92-5582      B   Mandalay        Member  Female   \n",
       "..           ...    ...        ...           ...     ...   \n",
       "987  552-44-5977      B   Mandalay        Member    Male   \n",
       "989  430-53-4718      B   Mandalay        Member    Male   \n",
       "990  886-18-2897      A     Yangon        Normal  Female   \n",
       "995  233-67-5758      C  Naypyitaw        Normal    Male   \n",
       "999  849-09-3807      A     Yangon        Member  Female   \n",
       "\n",
       "               Product line  Unit price  Quantity   Tax 5%     Total  \\\n",
       "0         Health and beauty       74.69         7  26.1415  548.9715   \n",
       "5    Electronic accessories       85.39         7  29.8865  627.6165   \n",
       "6    Electronic accessories       68.84         6  20.6520  433.6920   \n",
       "7        Home and lifestyle       73.56        10  36.7800  772.3800   \n",
       "9        Food and beverages       54.84         3   8.2260  172.7460   \n",
       "..                      ...         ...       ...      ...       ...   \n",
       "987       Health and beauty       62.00         8  24.8000  520.8000   \n",
       "989       Health and beauty       75.37         8  30.1480  633.1080   \n",
       "990      Food and beverages       56.56         5  14.1400  296.9400   \n",
       "995       Health and beauty       40.35         1   2.0175   42.3675   \n",
       "999     Fashion accessories       88.34         7  30.9190  649.2990   \n",
       "\n",
       "          Date      Time      Payment    cogs  gross margin percentage  \\\n",
       "0   2019-01-05  13:08:00      Ewallet  522.83                 4.761905   \n",
       "5   2019-03-25  18:30:00      Ewallet  597.73                 4.761905   \n",
       "6   2019-02-25  14:36:00      Ewallet  413.04                 4.761905   \n",
       "7   2019-02-24  11:38:00      Ewallet  735.60                 4.761905   \n",
       "9   2019-02-20  13:27:00  Credit card  164.52                 4.761905   \n",
       "..         ...       ...          ...     ...                      ...   \n",
       "987 2019-01-03  19:08:00  Credit card  496.00                 4.761905   \n",
       "989 2019-01-28  15:46:00  Credit card  602.96                 4.761905   \n",
       "990 2019-03-22  19:06:00  Credit card  282.80                 4.761905   \n",
       "995 2019-01-29  13:46:00      Ewallet   40.35                 4.761905   \n",
       "999 2019-02-18  13:28:00         Cash  618.38                 4.761905   \n",
       "\n",
       "     gross income  Rating  day  \n",
       "0         26.1415     9.1    5  \n",
       "5         29.8865     4.1   25  \n",
       "6         20.6520     5.8   25  \n",
       "7         36.7800     8.0   24  \n",
       "9          8.2260     5.9   20  \n",
       "..            ...     ...  ...  \n",
       "987       24.8000     6.2    3  \n",
       "989       30.1480     8.4   28  \n",
       "990       14.1400     4.5   22  \n",
       "995        2.0175     6.2   29  \n",
       "999       30.9190     6.6   18  \n",
       "\n",
       "[423 rows x 18 columns]"
      ]
     },
     "execution_count": 94,
     "metadata": {},
     "output_type": "execute_result"
    }
   ],
   "source": [
    "good_sales = df[df['gross margin percentage'] > avg_gross_margin_percentage]\n",
    "bad_sales = df[df['gross margin percentage'] <= avg_gross_margin_percentage]\n",
    "good_sales"
   ]
  },
  {
   "cell_type": "code",
   "execution_count": 95,
   "id": "9c21aa27-7553-4d9f-b767-32a330bf2aef",
   "metadata": {},
   "outputs": [
    {
     "data": {
      "text/html": [
       "<div>\n",
       "<style scoped>\n",
       "    .dataframe tbody tr th:only-of-type {\n",
       "        vertical-align: middle;\n",
       "    }\n",
       "\n",
       "    .dataframe tbody tr th {\n",
       "        vertical-align: top;\n",
       "    }\n",
       "\n",
       "    .dataframe thead th {\n",
       "        text-align: right;\n",
       "    }\n",
       "</style>\n",
       "<table border=\"1\" class=\"dataframe\">\n",
       "  <thead>\n",
       "    <tr style=\"text-align: right;\">\n",
       "      <th></th>\n",
       "      <th>Invoice ID</th>\n",
       "      <th>Branch</th>\n",
       "      <th>City</th>\n",
       "      <th>Customer type</th>\n",
       "      <th>Gender</th>\n",
       "      <th>Product line</th>\n",
       "      <th>Unit price</th>\n",
       "      <th>Quantity</th>\n",
       "      <th>Tax 5%</th>\n",
       "      <th>Total</th>\n",
       "      <th>Date</th>\n",
       "      <th>Time</th>\n",
       "      <th>Payment</th>\n",
       "      <th>cogs</th>\n",
       "      <th>gross margin percentage</th>\n",
       "      <th>gross income</th>\n",
       "      <th>Rating</th>\n",
       "      <th>day</th>\n",
       "    </tr>\n",
       "  </thead>\n",
       "  <tbody>\n",
       "    <tr>\n",
       "      <th>1</th>\n",
       "      <td>226-31-3081</td>\n",
       "      <td>C</td>\n",
       "      <td>Naypyitaw</td>\n",
       "      <td>Normal</td>\n",
       "      <td>Female</td>\n",
       "      <td>Electronic accessories</td>\n",
       "      <td>15.28</td>\n",
       "      <td>5</td>\n",
       "      <td>3.8200</td>\n",
       "      <td>80.2200</td>\n",
       "      <td>2019-03-08</td>\n",
       "      <td>10:29:00</td>\n",
       "      <td>Cash</td>\n",
       "      <td>76.40</td>\n",
       "      <td>4.761905</td>\n",
       "      <td>3.8200</td>\n",
       "      <td>9.6</td>\n",
       "      <td>8</td>\n",
       "    </tr>\n",
       "    <tr>\n",
       "      <th>2</th>\n",
       "      <td>631-41-3108</td>\n",
       "      <td>A</td>\n",
       "      <td>Yangon</td>\n",
       "      <td>Normal</td>\n",
       "      <td>Male</td>\n",
       "      <td>Home and lifestyle</td>\n",
       "      <td>46.33</td>\n",
       "      <td>7</td>\n",
       "      <td>16.2155</td>\n",
       "      <td>340.5255</td>\n",
       "      <td>2019-03-03</td>\n",
       "      <td>13:23:00</td>\n",
       "      <td>Credit card</td>\n",
       "      <td>324.31</td>\n",
       "      <td>4.761905</td>\n",
       "      <td>16.2155</td>\n",
       "      <td>7.4</td>\n",
       "      <td>3</td>\n",
       "    </tr>\n",
       "    <tr>\n",
       "      <th>3</th>\n",
       "      <td>123-19-1176</td>\n",
       "      <td>A</td>\n",
       "      <td>Yangon</td>\n",
       "      <td>Member</td>\n",
       "      <td>Male</td>\n",
       "      <td>Health and beauty</td>\n",
       "      <td>58.22</td>\n",
       "      <td>8</td>\n",
       "      <td>23.2880</td>\n",
       "      <td>489.0480</td>\n",
       "      <td>2019-01-27</td>\n",
       "      <td>20:33:00</td>\n",
       "      <td>Ewallet</td>\n",
       "      <td>465.76</td>\n",
       "      <td>4.761905</td>\n",
       "      <td>23.2880</td>\n",
       "      <td>8.4</td>\n",
       "      <td>27</td>\n",
       "    </tr>\n",
       "    <tr>\n",
       "      <th>4</th>\n",
       "      <td>373-73-7910</td>\n",
       "      <td>A</td>\n",
       "      <td>Yangon</td>\n",
       "      <td>Normal</td>\n",
       "      <td>Male</td>\n",
       "      <td>Sports and travel</td>\n",
       "      <td>86.31</td>\n",
       "      <td>7</td>\n",
       "      <td>30.2085</td>\n",
       "      <td>634.3785</td>\n",
       "      <td>2019-02-08</td>\n",
       "      <td>10:37:00</td>\n",
       "      <td>Ewallet</td>\n",
       "      <td>604.17</td>\n",
       "      <td>4.761905</td>\n",
       "      <td>30.2085</td>\n",
       "      <td>5.3</td>\n",
       "      <td>8</td>\n",
       "    </tr>\n",
       "    <tr>\n",
       "      <th>8</th>\n",
       "      <td>665-32-9167</td>\n",
       "      <td>A</td>\n",
       "      <td>Yangon</td>\n",
       "      <td>Member</td>\n",
       "      <td>Female</td>\n",
       "      <td>Health and beauty</td>\n",
       "      <td>36.26</td>\n",
       "      <td>2</td>\n",
       "      <td>3.6260</td>\n",
       "      <td>76.1460</td>\n",
       "      <td>2019-01-10</td>\n",
       "      <td>17:15:00</td>\n",
       "      <td>Credit card</td>\n",
       "      <td>72.52</td>\n",
       "      <td>4.761905</td>\n",
       "      <td>3.6260</td>\n",
       "      <td>7.2</td>\n",
       "      <td>10</td>\n",
       "    </tr>\n",
       "    <tr>\n",
       "      <th>...</th>\n",
       "      <td>...</td>\n",
       "      <td>...</td>\n",
       "      <td>...</td>\n",
       "      <td>...</td>\n",
       "      <td>...</td>\n",
       "      <td>...</td>\n",
       "      <td>...</td>\n",
       "      <td>...</td>\n",
       "      <td>...</td>\n",
       "      <td>...</td>\n",
       "      <td>...</td>\n",
       "      <td>...</td>\n",
       "      <td>...</td>\n",
       "      <td>...</td>\n",
       "      <td>...</td>\n",
       "      <td>...</td>\n",
       "      <td>...</td>\n",
       "      <td>...</td>\n",
       "    </tr>\n",
       "    <tr>\n",
       "      <th>993</th>\n",
       "      <td>690-01-6631</td>\n",
       "      <td>B</td>\n",
       "      <td>Mandalay</td>\n",
       "      <td>Normal</td>\n",
       "      <td>Male</td>\n",
       "      <td>Fashion accessories</td>\n",
       "      <td>17.49</td>\n",
       "      <td>10</td>\n",
       "      <td>8.7450</td>\n",
       "      <td>183.6450</td>\n",
       "      <td>2019-02-22</td>\n",
       "      <td>18:35:00</td>\n",
       "      <td>Ewallet</td>\n",
       "      <td>174.90</td>\n",
       "      <td>4.761905</td>\n",
       "      <td>8.7450</td>\n",
       "      <td>6.6</td>\n",
       "      <td>22</td>\n",
       "    </tr>\n",
       "    <tr>\n",
       "      <th>994</th>\n",
       "      <td>652-49-6720</td>\n",
       "      <td>C</td>\n",
       "      <td>Naypyitaw</td>\n",
       "      <td>Member</td>\n",
       "      <td>Female</td>\n",
       "      <td>Electronic accessories</td>\n",
       "      <td>60.95</td>\n",
       "      <td>1</td>\n",
       "      <td>3.0475</td>\n",
       "      <td>63.9975</td>\n",
       "      <td>2019-02-18</td>\n",
       "      <td>11:40:00</td>\n",
       "      <td>Ewallet</td>\n",
       "      <td>60.95</td>\n",
       "      <td>4.761905</td>\n",
       "      <td>3.0475</td>\n",
       "      <td>5.9</td>\n",
       "      <td>18</td>\n",
       "    </tr>\n",
       "    <tr>\n",
       "      <th>996</th>\n",
       "      <td>303-96-2227</td>\n",
       "      <td>B</td>\n",
       "      <td>Mandalay</td>\n",
       "      <td>Normal</td>\n",
       "      <td>Female</td>\n",
       "      <td>Home and lifestyle</td>\n",
       "      <td>97.38</td>\n",
       "      <td>10</td>\n",
       "      <td>48.6900</td>\n",
       "      <td>1022.4900</td>\n",
       "      <td>2019-03-02</td>\n",
       "      <td>17:16:00</td>\n",
       "      <td>Ewallet</td>\n",
       "      <td>973.80</td>\n",
       "      <td>4.761905</td>\n",
       "      <td>48.6900</td>\n",
       "      <td>4.4</td>\n",
       "      <td>2</td>\n",
       "    </tr>\n",
       "    <tr>\n",
       "      <th>997</th>\n",
       "      <td>727-02-1313</td>\n",
       "      <td>A</td>\n",
       "      <td>Yangon</td>\n",
       "      <td>Member</td>\n",
       "      <td>Male</td>\n",
       "      <td>Food and beverages</td>\n",
       "      <td>31.84</td>\n",
       "      <td>1</td>\n",
       "      <td>1.5920</td>\n",
       "      <td>33.4320</td>\n",
       "      <td>2019-02-09</td>\n",
       "      <td>13:22:00</td>\n",
       "      <td>Cash</td>\n",
       "      <td>31.84</td>\n",
       "      <td>4.761905</td>\n",
       "      <td>1.5920</td>\n",
       "      <td>7.7</td>\n",
       "      <td>9</td>\n",
       "    </tr>\n",
       "    <tr>\n",
       "      <th>998</th>\n",
       "      <td>347-56-2442</td>\n",
       "      <td>A</td>\n",
       "      <td>Yangon</td>\n",
       "      <td>Normal</td>\n",
       "      <td>Male</td>\n",
       "      <td>Home and lifestyle</td>\n",
       "      <td>65.82</td>\n",
       "      <td>1</td>\n",
       "      <td>3.2910</td>\n",
       "      <td>69.1110</td>\n",
       "      <td>2019-02-22</td>\n",
       "      <td>15:33:00</td>\n",
       "      <td>Cash</td>\n",
       "      <td>65.82</td>\n",
       "      <td>4.761905</td>\n",
       "      <td>3.2910</td>\n",
       "      <td>4.1</td>\n",
       "      <td>22</td>\n",
       "    </tr>\n",
       "  </tbody>\n",
       "</table>\n",
       "<p>577 rows × 18 columns</p>\n",
       "</div>"
      ],
      "text/plain": [
       "      Invoice ID Branch       City Customer type  Gender  \\\n",
       "1    226-31-3081      C  Naypyitaw        Normal  Female   \n",
       "2    631-41-3108      A     Yangon        Normal    Male   \n",
       "3    123-19-1176      A     Yangon        Member    Male   \n",
       "4    373-73-7910      A     Yangon        Normal    Male   \n",
       "8    665-32-9167      A     Yangon        Member  Female   \n",
       "..           ...    ...        ...           ...     ...   \n",
       "993  690-01-6631      B   Mandalay        Normal    Male   \n",
       "994  652-49-6720      C  Naypyitaw        Member  Female   \n",
       "996  303-96-2227      B   Mandalay        Normal  Female   \n",
       "997  727-02-1313      A     Yangon        Member    Male   \n",
       "998  347-56-2442      A     Yangon        Normal    Male   \n",
       "\n",
       "               Product line  Unit price  Quantity   Tax 5%      Total  \\\n",
       "1    Electronic accessories       15.28         5   3.8200    80.2200   \n",
       "2        Home and lifestyle       46.33         7  16.2155   340.5255   \n",
       "3         Health and beauty       58.22         8  23.2880   489.0480   \n",
       "4         Sports and travel       86.31         7  30.2085   634.3785   \n",
       "8         Health and beauty       36.26         2   3.6260    76.1460   \n",
       "..                      ...         ...       ...      ...        ...   \n",
       "993     Fashion accessories       17.49        10   8.7450   183.6450   \n",
       "994  Electronic accessories       60.95         1   3.0475    63.9975   \n",
       "996      Home and lifestyle       97.38        10  48.6900  1022.4900   \n",
       "997      Food and beverages       31.84         1   1.5920    33.4320   \n",
       "998      Home and lifestyle       65.82         1   3.2910    69.1110   \n",
       "\n",
       "          Date      Time      Payment    cogs  gross margin percentage  \\\n",
       "1   2019-03-08  10:29:00         Cash   76.40                 4.761905   \n",
       "2   2019-03-03  13:23:00  Credit card  324.31                 4.761905   \n",
       "3   2019-01-27  20:33:00      Ewallet  465.76                 4.761905   \n",
       "4   2019-02-08  10:37:00      Ewallet  604.17                 4.761905   \n",
       "8   2019-01-10  17:15:00  Credit card   72.52                 4.761905   \n",
       "..         ...       ...          ...     ...                      ...   \n",
       "993 2019-02-22  18:35:00      Ewallet  174.90                 4.761905   \n",
       "994 2019-02-18  11:40:00      Ewallet   60.95                 4.761905   \n",
       "996 2019-03-02  17:16:00      Ewallet  973.80                 4.761905   \n",
       "997 2019-02-09  13:22:00         Cash   31.84                 4.761905   \n",
       "998 2019-02-22  15:33:00         Cash   65.82                 4.761905   \n",
       "\n",
       "     gross income  Rating  day  \n",
       "1          3.8200     9.6    8  \n",
       "2         16.2155     7.4    3  \n",
       "3         23.2880     8.4   27  \n",
       "4         30.2085     5.3    8  \n",
       "8          3.6260     7.2   10  \n",
       "..            ...     ...  ...  \n",
       "993        8.7450     6.6   22  \n",
       "994        3.0475     5.9   18  \n",
       "996       48.6900     4.4    2  \n",
       "997        1.5920     7.7    9  \n",
       "998        3.2910     4.1   22  \n",
       "\n",
       "[577 rows x 18 columns]"
      ]
     },
     "execution_count": 95,
     "metadata": {},
     "output_type": "execute_result"
    }
   ],
   "source": [
    "bad_sales"
   ]
  },
  {
   "cell_type": "code",
   "execution_count": 96,
   "id": "2f14e42d-690a-4f49-be49-963723457325",
   "metadata": {},
   "outputs": [
    {
     "data": {
      "text/plain": [
       "423"
      ]
     },
     "execution_count": 96,
     "metadata": {},
     "output_type": "execute_result"
    }
   ],
   "source": [
    "good_sales['Invoice ID'].count()"
   ]
  },
  {
   "cell_type": "code",
   "execution_count": 97,
   "id": "0fa6d345-6cf1-4120-9edb-24e1e6ff45e9",
   "metadata": {},
   "outputs": [
    {
     "data": {
      "text/plain": [
       "577"
      ]
     },
     "execution_count": 97,
     "metadata": {},
     "output_type": "execute_result"
    }
   ],
   "source": [
    "bad_sales['Invoice ID'].count()"
   ]
  },
  {
   "cell_type": "code",
   "execution_count": 98,
   "id": "a0fd8213-77d9-4f70-8528-0248fb7fc911",
   "metadata": {},
   "outputs": [
    {
     "data": {
      "text/plain": [
       "<module 'matplotlib.pyplot' from 'C:\\\\Users\\\\HP\\\\anaconda3\\\\Lib\\\\site-packages\\\\matplotlib\\\\pyplot.py'>"
      ]
     },
     "execution_count": 98,
     "metadata": {},
     "output_type": "execute_result"
    },
    {
     "data": {
      "image/png": "[encoded data removed]",
      "text/plain": [
       "<Figure size 640x480 with 1 Axes>"
      ]
     },
     "metadata": {},
     "output_type": "display_data"
    }
   ],
   "source": [
    "figure=figsize=(15,9)\n",
    "sns.barplot(x=good_sales['Product line'],y=good_sales['cogs'])\n",
    "plt"
   ]
  },
  {
   "cell_type": "markdown",
   "id": "f2697e1d-a073-41d0-ad40-a89efa48b610",
   "metadata": {},
   "source": [
    "# Here my all insight about this dataset"
   ]
  },
  {
   "cell_type": "markdown",
   "id": "dbc8a9e0",
   "metadata": {},
   "source": [
    "# 1  Product line performance: \"Electronic accessories\" and \"Health and beauty\" are the top-selling product lines.\n",
    "\n",
    "# 2 .Customer segmentation: Members have a higher average sales value than Normal customers.\n",
    "\n",
    "# 3. Gender-based sales: There is no significant difference in sales between genders.\n",
    "\n",
    "# 4.Average transaction value: The average transaction value is around 400.\n",
    "\n",
    "# 5.Customer rating: The average customer rating is around 6.5, suggesting a moderate level of satisfaction.\n",
    "\n",
    "# 6. Monthly wise sales report :  We are generating Highet amount of total sales in Janurary and March\n",
    "\n",
    "# 7.Payment method analysis: Ewallet is the most preferred payment method, followed by credit card and cash.\n",
    "\n",
    "# 8.Correlation analysis: There is a strong positive correlation between unit price and total, indicating that higher unit prices lead to higher total sales.\n",
    "\n",
    "# 9 There are 423/1000 Good sales and 577/1000 Bad sales based on the average of gross marging"
   ]
  },
  {
   "cell_type": "code",
   "execution_count": null,
   "id": "745f6372-0510-462d-80bf-40315e1cb70a",
   "metadata": {},
   "outputs": [],
   "source": []
  },
  {
   "cell_type": "code",
   "execution_count": null,
   "id": "d71cd7e4-ef54-4443-bdbf-4f58bce0fc14",
   "metadata": {},
   "outputs": [],
   "source": []
  },
  {
   "cell_type": "code",
   "execution_count": null,
   "id": "4fa7a509-6cf0-41c8-82f9-3ea978e54b08",
   "metadata": {},
   "outputs": [],
   "source": []
  },
  {
   "cell_type": "code",
   "execution_count": null,
   "id": "6c0bdbe9-0cf9-4b7a-b7b1-7f35f287f278",
   "metadata": {},
   "outputs": [],
   "source": []
  },
  {
   "cell_type": "code",
   "execution_count": null,
   "id": "7fc078e6-ae22-48e9-b4a5-bb38cb50b9cd",
   "metadata": {},
   "outputs": [],
   "source": []
  },
  {
   "cell_type": "code",
   "execution_count": null,
   "id": "4b23572b-6974-4fa4-9f28-fe94bc86042c",
   "metadata": {},
   "outputs": [],
   "source": []
  },
  {
   "cell_type": "code",
   "execution_count": null,
   "id": "f050b822-49d8-4283-97b9-2df8b10584cb",
   "metadata": {},
   "outputs": [],
   "source": []
  },
  {
   "cell_type": "code",
   "execution_count": null,
   "id": "760a1378-94c5-4313-b414-efcdc8f6621b",
   "metadata": {},
   "outputs": [],
   "source": []
  },
  {
   "cell_type": "code",
   "execution_count": null,
   "id": "db3ee2dc-ab09-4510-9ffe-71b6852c8162",
   "metadata": {},
   "outputs": [],
   "source": []
  },
  {
   "cell_type": "code",
   "execution_count": null,
   "id": "82d9585a-8ef0-47ae-9635-932e4092ae01",
   "metadata": {},
   "outputs": [],
   "source": []
  },
  {
   "cell_type": "code",
   "execution_count": null,
   "id": "9df6cdfb-39de-400b-a645-12a8707814c8",
   "metadata": {},
   "outputs": [],
   "source": []
  },
  {
   "cell_type": "code",
   "execution_count": null,
   "id": "37030159-2c41-4a93-963f-db3486fd4756",
   "metadata": {},
   "outputs": [],
   "source": []
  },
  {
   "cell_type": "code",
   "execution_count": null,
   "id": "683329ca-cc79-4404-b999-ce613471b1aa",
   "metadata": {},
   "outputs": [],
   "source": []
  },
  {
   "cell_type": "code",
   "execution_count": null,
   "id": "7462a2f5-8fb5-4bd1-b46d-bf433429cfdb",
   "metadata": {},
   "outputs": [],
   "source": []
  },
  {
   "cell_type": "code",
   "execution_count": null,
   "id": "2967c071-3ba7-4579-bfe2-fb814aa5c976",
   "metadata": {},
   "outputs": [],
   "source": []
  },
  {
   "cell_type": "code",
   "execution_count": null,
   "id": "1f54343c-6e31-4d8b-8223-6a7d0144559d",
   "metadata": {},
   "outputs": [],
   "source": []
  },
  {
   "cell_type": "code",
   "execution_count": null,
   "id": "fea95e04-50f6-407d-96ee-ab7bfdf27b41",
   "metadata": {},
   "outputs": [],
   "source": []
  },
  {
   "cell_type": "code",
   "execution_count": null,
   "id": "e8278a27-7388-41de-a685-4bd853c088d7",
   "metadata": {},
   "outputs": [],
   "source": []
  },
  {
   "cell_type": "code",
   "execution_count": null,
   "id": "c3c3ea5a-f7b9-4291-bea7-9a1b2315ad96",
   "metadata": {},
   "outputs": [],
   "source": []
  },
  {
   "cell_type": "code",
   "execution_count": null,
   "id": "b2a46090-7a9c-4bff-b9f3-e8f6a628fa04",
   "metadata": {},
   "outputs": [],
   "source": []
  },
  {
   "cell_type": "code",
   "execution_count": null,
   "id": "d94d6e12-da04-470c-b662-066626d47ba2",
   "metadata": {},
   "outputs": [],
   "source": []
  },
  {
   "cell_type": "code",
   "execution_count": null,
   "id": "3cd9d84b-7126-49f5-a1a6-cff330896d19",
   "metadata": {},
   "outputs": [],
   "source": []
  }
 ],
 "metadata": {
  "kernelspec": {
   "display_name": "Python 3 (ipykernel)",
   "language": "python",
   "name": "python3"
  },
  "language_info": {
   "codemirror_mode": {
    "name": "ipython",
    "version": 3
   },
   "file_extension": ".py",
   "mimetype": "text/x-python",
   "name": "python",
   "nbconvert_exporter": "python",
   "pygments_lexer": "ipython3",
   "version": "3.11.5"
  }
 },
 "nbformat": 4,
 "nbformat_minor": 5
}
